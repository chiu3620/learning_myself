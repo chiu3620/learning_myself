{
 "cells": [
  {
   "cell_type": "markdown",
   "metadata": {},
   "source": [
    "## Singly Linked list\n",
    "* ref:\n",
    "    * https://www.youtube.com/watch?v=JlMyYuY1aXU&t=368s\n",
    "    * https://github.com/bfaure/Python_Data_Structures/blob/master/Linked_List/main.py\n",
    "    * https://www.tutorialspoint.com/python_data_structure/python_linked_lists.htm"
   ]
  },
  {
   "cell_type": "code",
   "execution_count": 1,
   "metadata": {},
   "outputs": [],
   "source": [
    "import sys"
   ]
  },
  {
   "cell_type": "code",
   "execution_count": 1,
   "metadata": {},
   "outputs": [],
   "source": [
    "class node:\n",
    "    def __init__(self, data=None):\n",
    "        self.data = data\n",
    "        self.next = None"
   ]
  },
  {
   "cell_type": "code",
   "execution_count": 153,
   "metadata": {},
   "outputs": [],
   "source": [
    "class linkedList:\n",
    "    def __init__(self):\n",
    "        self.head = node()\n",
    "    \n",
    "    # Adds new node containing 'data' to the beginning of the linked list.\n",
    "    def insert_beginning(self, data = None):\n",
    "        new_node = node(data)\n",
    "        cur_node = self.head\n",
    "        if self.head.data == None:\n",
    "            cur_node.data = data\n",
    "        else:\n",
    "            new_node.next = cur_node\n",
    "            self.head = new_node\n",
    "    \n",
    "    # Adds new node containing 'data' to the end of the linked list.\n",
    "    def insert_last(self, data = None):\n",
    "        new_node = node(data)\n",
    "        cur_node = self.head\n",
    "        if cur_node.data == None:\n",
    "            cur_node.data = data\n",
    "        else:\n",
    "            # Find the late node of the current linked list\n",
    "            while cur_node.next != None:\n",
    "                cur_node = cur_node.next\n",
    "            # Adds new node behind the end of the current linked list\n",
    "            cur_node.next = new_node\n",
    "    \n",
    "    # Returns the length (integer) of the linked list.\n",
    "    def length(self):\n",
    "        cur_node = self.head\n",
    "        total = 0\n",
    "        while cur_node != None:\n",
    "            total = total + 1\n",
    "            cur_node = cur_node.next\n",
    "        return total\n",
    "\n",
    "    # Prints out the linked list in traditional Python list format.\n",
    "    def display(self):\n",
    "        elems = []\n",
    "        cur_node = self.head\n",
    "        while cur_node != None:\n",
    "            elems.append(cur_node.data)\n",
    "            cur_node = cur_node.next\n",
    "        print(elems)\n",
    "    \n",
    "    # Prints out the linked list.\n",
    "    def printlist(self):\n",
    "        cur_node = self.head\n",
    "        while cur_node != None:\n",
    "            print(cur_node.data)\n",
    "            cur_node = cur_node.next\n",
    "    \n",
    "    # Returns the value of the node at 'index'.\n",
    "    def get(self,index):\n",
    "#         if index > self.length() or index <= 0:\n",
    "#             print(\"ERROR: 'Erase' Index out of range!\")\n",
    "#             return None\n",
    "        cur_idx = 1\n",
    "        cur_node = self.head\n",
    "        while cur_node != None:\n",
    "            if cur_idx == index:\n",
    "                return cur_node\n",
    "            cur_node = cur_node.next\n",
    "            cur_idx = cur_idx + 1\n",
    "        return None\n",
    "    \n",
    "    # Deletes the node at index 'index'.\n",
    "    def erase(self,index):\n",
    "#         if index > self.length() or index <= 0:\n",
    "#             print(\"ERROR: 'Erase' Index out of range!\")\n",
    "#             return\n",
    "        cur_idx = 1\n",
    "        last_node = self.head\n",
    "        cur_node = self.head\n",
    "        while cur_node != None:\n",
    "            if cur_idx == index:\n",
    "                last_node.next = cur_node.next\n",
    "                return\n",
    "            last_node = cur_node\n",
    "            cur_node = cur_node.next\n",
    "            cur_idx = cur_idx + 1\n",
    "        return\n",
    "            \n",
    "    # Allows for bracket operator syntax (i.e. a[0] to return first item).\n",
    "    def __getitem__(self,index):\n",
    "        return self.get(index)"
   ]
  },
  {
   "cell_type": "code",
   "execution_count": 54,
   "metadata": {},
   "outputs": [
    {
     "name": "stdout",
     "output_type": "stream",
     "text": [
      "None\n",
      "[None]\n",
      "0\n",
      "[0]\n"
     ]
    }
   ],
   "source": [
    "test = linkedList()\n",
    "print(test.head.data)\n",
    "test.display()\n",
    "test = linkedList()\n",
    "test.insert_last(0)\n",
    "print(test.head.data)\n",
    "test.display()"
   ]
  },
  {
   "cell_type": "code",
   "execution_count": 55,
   "metadata": {},
   "outputs": [
    {
     "name": "stdout",
     "output_type": "stream",
     "text": [
      "0\n",
      "1\n"
     ]
    }
   ],
   "source": [
    "test.insert_last(1)\n",
    "print(test.head.data)\n",
    "print(test.head.next.data)"
   ]
  },
  {
   "cell_type": "code",
   "execution_count": 58,
   "metadata": {},
   "outputs": [
    {
     "name": "stdout",
     "output_type": "stream",
     "text": [
      "[0, 1, 2, 3, 4, 5, 6, 7, 8, 9]\n",
      "0\n",
      "1\n",
      "2\n",
      "3\n",
      "4\n",
      "5\n",
      "6\n",
      "7\n",
      "8\n",
      "9\n"
     ]
    },
    {
     "data": {
      "text/plain": [
       "10"
      ]
     },
     "execution_count": 58,
     "metadata": {},
     "output_type": "execute_result"
    }
   ],
   "source": [
    "test = linkedList()\n",
    "for i in range(10):\n",
    "    test.insert_last(i)\n",
    "test.display()\n",
    "test.printlist()\n",
    "test.length()"
   ]
  },
  {
   "cell_type": "code",
   "execution_count": 59,
   "metadata": {},
   "outputs": [
    {
     "name": "stdout",
     "output_type": "stream",
     "text": [
      "[0, 1, 2, 3, 4, 5, 6, 7, 8, 9]\n",
      "4\n",
      "[0, 1, 2, 3, 5, 6, 7, 8, 9]\n"
     ]
    }
   ],
   "source": [
    "test.display()\n",
    "print(test.get(5).data)\n",
    "test.erase(5)\n",
    "test.display()"
   ]
  },
  {
   "cell_type": "code",
   "execution_count": 63,
   "metadata": {},
   "outputs": [],
   "source": [
    "def kth_to_last(link,index):\n",
    "    k = 1;\n",
    "    output = linkedList()\n",
    "    cur_node = link.head\n",
    "    while cur_node != None:\n",
    "        if k >= index:\n",
    "            output.insert_last(cur_node.data)\n",
    "            cur_node = cur_node.next\n",
    "            k = k + 1\n",
    "        else:\n",
    "            cur_node = cur_node.next\n",
    "            k = k + 1\n",
    "    if k < index:\n",
    "        print(\"ERROR: Index out of range!\")\n",
    "        return None\n",
    "    return output"
   ]
  },
  {
   "cell_type": "code",
   "execution_count": 64,
   "metadata": {},
   "outputs": [
    {
     "name": "stdout",
     "output_type": "stream",
     "text": [
      "[0, 1, 2, 3, 4, 5, 6, 7, 8, 9]\n"
     ]
    }
   ],
   "source": [
    "test = linkedList()\n",
    "for i in range(10):\n",
    "    test.insert_last(i)\n",
    "test.display()"
   ]
  },
  {
   "cell_type": "code",
   "execution_count": 65,
   "metadata": {},
   "outputs": [
    {
     "name": "stdout",
     "output_type": "stream",
     "text": [
      "[2, 3, 4, 5, 6, 7, 8, 9]\n"
     ]
    }
   ],
   "source": [
    "test = linkedList()\n",
    "for i in range(10):\n",
    "    test.insert_last(i)\n",
    "out = kth_to_last(test,3)\n",
    "out.display()"
   ]
  }
 ],
 "metadata": {
  "kernelspec": {
   "display_name": "Python 3",
   "language": "python",
   "name": "python3"
  },
  "language_info": {
   "codemirror_mode": {
    "name": "ipython",
    "version": 3
   },
   "file_extension": ".py",
   "mimetype": "text/x-python",
   "name": "python",
   "nbconvert_exporter": "python",
   "pygments_lexer": "ipython3",
   "version": "3.7.6"
  }
 },
 "nbformat": 4,
 "nbformat_minor": 4
}
