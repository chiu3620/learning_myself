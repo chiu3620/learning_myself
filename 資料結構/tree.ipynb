{
 "cells": [
  {
   "cell_type": "markdown",
   "metadata": {},
   "source": [
    "## tree by class\n",
    "* ref:\n",
    "    * 圖解資料結構-使用Python(第二版)\n"
   ]
  },
  {
   "cell_type": "code",
   "execution_count": 1,
   "metadata": {},
   "outputs": [],
   "source": [
    "class tree:\n",
    "    def __init__(self, val = None):\n",
    "        self.data = val\n",
    "        self.left = None\n",
    "        self.right = None\n",
    "\n",
    "def create_tree(root,val):    #建立二元樹函數\n",
    "    newnode = tree(val)\n",
    "    if root.data == None:\n",
    "        root = newnode\n",
    "        return root\n",
    "    else:\n",
    "        current = root\n",
    "        while current != None:\n",
    "            backup = current\n",
    "            if current.data > val:\n",
    "                current = current.left\n",
    "            else:\n",
    "                current = current.right\n",
    "        if backup.data > val:\n",
    "            backup.left = newnode\n",
    "        else:\n",
    "            backup.right = newnode\n",
    "    return root"
   ]
  },
  {
   "cell_type": "code",
   "execution_count": 2,
   "metadata": {},
   "outputs": [],
   "source": [
    "def inorder(ptr):\n",
    "    if ptr!=None:\n",
    "        inorder(ptr.left)\n",
    "        print('[%2d] ' %ptr.data, end='')\n",
    "        inorder(ptr.right)"
   ]
  },
  {
   "cell_type": "code",
   "execution_count": 3,
   "metadata": {},
   "outputs": [
    {
     "name": "stdout",
     "output_type": "stream",
     "text": [
      "====================\n",
      "排序完成結果：\n",
      "[ 1] [ 3] [ 5] [ 6] [ 8] [ 9] [12] [17] [24] \n"
     ]
    }
   ],
   "source": [
    "#主程式\n",
    "data = [5,6,24,8,12,3,17,1,9]\n",
    "ptr = tree()\n",
    "for i in range(9):\n",
    "    ptr=create_tree(ptr,data[i])       #建立二元樹\n",
    "print('====================')\n",
    "print('排序完成結果：')\n",
    "inorder(ptr)   #中序走訪\n",
    "print('')"
   ]
  },
  {
   "cell_type": "code",
   "execution_count": null,
   "metadata": {},
   "outputs": [],
   "source": []
  },
  {
   "cell_type": "markdown",
   "metadata": {},
   "source": [
    "## Binary search tree by class\n",
    "* ref:\n",
    "    * https://lovedrinkcafe.com/python-binary-search-tree-part-1/"
   ]
  },
  {
   "cell_type": "code",
   "execution_count": 13,
   "metadata": {},
   "outputs": [],
   "source": [
    "class Node:\n",
    "    def __init__(self, val = None):\n",
    "        self.data = val\n",
    "        self.left = None #smaller\n",
    "        self.right = None #greater\n",
    "\n",
    "class Binary_search_tree:\n",
    "    def __init__(self):\n",
    "        self.root = None\n",
    "\n",
    "    def insert(self, val):\n",
    "        #判斷tree是否為空\n",
    "        if self.root == None:\n",
    "            self.root = Node(val)\n",
    "        else:\n",
    "            self._insert(val, self.root)\n",
    "\n",
    "    def _insert(self, val, cur_node):\n",
    "        if val < cur_node.data:\n",
    "            if cur_node.left == None:\n",
    "                cur_node.left = Node(val)\n",
    "            else:\n",
    "                self._insert(val, cur_node.left)\n",
    "\n",
    "        elif val > cur_node.data:\n",
    "            if cur_node.right == None:\n",
    "                cur_node.right = Node(val)\n",
    "            else:\n",
    "                self._insert(val, cur_node.right)\n",
    "\n",
    "        # val == cur_node.data\n",
    "        else:\n",
    "            print(\"The val [%s] has existed\" %str(val))\n",
    "            \n",
    "    def search(self, val):\n",
    "        if self.root != None:\n",
    "            self._search(val, self.root)\n",
    "        else:\n",
    "            print(\"Don't find [%s] in this tree\" %str(val))\n",
    "\n",
    "    def _search(self, val, cur_node):\n",
    "        while True:\n",
    "            if cur_node == None:\n",
    "                print(\"Don't find [%s] in this tree\" %str(val))\n",
    "                return None\n",
    "            \n",
    "            if cur_node.data == val:\n",
    "                print(\"There exists [%s] in this tree\" %str(val))\n",
    "                return cur_node\n",
    "            elif cur_node.data > val:\n",
    "                cur_node = cur_node.left\n",
    "            else :\n",
    "                cur_node = cur_node.right\n",
    "\n",
    "###### delet hasn't written ###### \n",
    "    def delet(self, val):\n",
    "        if self.root != None:\n",
    "            self._delet(val, self.root)\n",
    "        else:\n",
    "            print(\"Don't find\")\n",
    "\n",
    "#     def _delet(self, val, cur_node):\n",
    "\n",
    "###### delet hasn't written ###### \n",
    "\n",
    "    def print_inorder(self):\n",
    "        if self.root!=None:\n",
    "            self._print_inorder(self.root)\n",
    "\n",
    "    def _print_inorder(self,cur_node):\n",
    "        if cur_node!=None:\n",
    "            self._print_inorder(cur_node.left)\n",
    "            print('[%s]' %str(cur_node.data), end=' ')\n",
    "            self._print_inorder(cur_node.right)"
   ]
  },
  {
   "cell_type": "code",
   "execution_count": 14,
   "metadata": {},
   "outputs": [
    {
     "name": "stdout",
     "output_type": "stream",
     "text": [
      "The val [5] has existed\n",
      "[1] [3] [5] [6] [8] [9] [12] [17] [24] "
     ]
    }
   ],
   "source": [
    "data = [5,6,24,8,12,3,17,1,9,5]\n",
    "ptr = Binary_search_tree()\n",
    "for i in range(len(data)):\n",
    "    ptr.insert(data[i])\n",
    "ptr.print_inorder()"
   ]
  },
  {
   "cell_type": "code",
   "execution_count": 15,
   "metadata": {},
   "outputs": [
    {
     "name": "stdout",
     "output_type": "stream",
     "text": [
      "Don't find [111] in this tree\n",
      "There exists [5] in this tree\n"
     ]
    }
   ],
   "source": [
    "ptr.search(111)\n",
    "ptr.search(5)"
   ]
  },
  {
   "cell_type": "markdown",
   "metadata": {},
   "source": [
    "## Trie\n",
    "ref. https://stackoverflow.com/questions/11015320/how-to-create-a-trie-in-python"
   ]
  },
  {
   "cell_type": "code",
   "execution_count": 16,
   "metadata": {},
   "outputs": [],
   "source": [
    "def trie(words):\n",
    "    root = {}\n",
    "    for word in words:\n",
    "        cur_node = root\n",
    "        for letter in word:\n",
    "            cur_node = cur_node.setdefault(letter, {})\n",
    "    return root"
   ]
  },
  {
   "cell_type": "code",
   "execution_count": 17,
   "metadata": {},
   "outputs": [
    {
     "name": "stdout",
     "output_type": "stream",
     "text": [
      "{'f': {'o': {'o': {}}}, 'b': {'a': {'r': {'z': {}}, 'z': {}}}}\n"
     ]
    }
   ],
   "source": [
    "test_words = ['foo', 'bar', 'baz', 'barz']\n",
    "test_tree = trie(test_words)\n",
    "print(test_tree)"
   ]
  },
  {
   "cell_type": "code",
   "execution_count": 18,
   "metadata": {},
   "outputs": [],
   "source": [
    "def trie(words):\n",
    "    root = {}\n",
    "    for word in words:\n",
    "        cur_node = root\n",
    "        for letter in word:\n",
    "            if letter in cur_node:\n",
    "                cur_node = cur_node[letter]\n",
    "            else:\n",
    "                cur_node[letter] = {}\n",
    "                cur_node = cur_node[letter]\n",
    "        cur_node[\"_end\"] = \"_end\"\n",
    "    return root"
   ]
  },
  {
   "cell_type": "code",
   "execution_count": 19,
   "metadata": {},
   "outputs": [
    {
     "name": "stdout",
     "output_type": "stream",
     "text": [
      "{'f': {'o': {'o': {'_end': '_end'}}}, 'b': {'a': {'r': {'_end': '_end', 'z': {'_end': '_end'}}, 'z': {'_end': '_end'}}}}\n"
     ]
    }
   ],
   "source": [
    "test_words = ['foo', 'bar', 'baz', 'barz']\n",
    "test_tree = trie(test_words)\n",
    "print(test_tree)"
   ]
  },
  {
   "cell_type": "code",
   "execution_count": 20,
   "metadata": {},
   "outputs": [],
   "source": [
    "def trie(*words):\n",
    "    root = {}\n",
    "    for word in words:\n",
    "        cur_node = root\n",
    "        for letter in word:\n",
    "            cur_node = cur_node.setdefault(letter, {})\n",
    "    return root"
   ]
  },
  {
   "cell_type": "code",
   "execution_count": 21,
   "metadata": {},
   "outputs": [
    {
     "name": "stdout",
     "output_type": "stream",
     "text": [
      "{'f': {'o': {'o': {}}}, 'b': {'a': {'r': {'z': {}}, 'z': {}}}}\n"
     ]
    }
   ],
   "source": [
    "test_tree = trie('foo', 'bar', 'baz', 'barz')\n",
    "print(test_tree)"
   ]
  },
  {
   "cell_type": "code",
   "execution_count": 23,
   "metadata": {},
   "outputs": [
    {
     "name": "stdout",
     "output_type": "stream",
     "text": [
      "Value : 7\n",
      "Value : None\n"
     ]
    }
   ],
   "source": [
    "dict = {'Name': 'Zara', 'Age': 7}\n",
    "\n",
    "print(\"Value : %s\" %  dict.setdefault('Age', None))\n",
    "print(\"Value : %s\" %  dict.setdefault('Sex', None))"
   ]
  },
  {
   "cell_type": "code",
   "execution_count": 24,
   "metadata": {},
   "outputs": [
    {
     "data": {
      "text/plain": [
       "{'Name': 'Zara', 'Age': 7, 'Sex': None}"
      ]
     },
     "execution_count": 24,
     "metadata": {},
     "output_type": "execute_result"
    }
   ],
   "source": [
    "dict"
   ]
  },
  {
   "cell_type": "markdown",
   "metadata": {},
   "source": [
    "# AVL\n",
    "ref. https://www.geeksforgeeks.org/avl-tree-set-1-insertion/"
   ]
  },
  {
   "cell_type": "code",
   "execution_count": 26,
   "metadata": {},
   "outputs": [],
   "source": [
    "class tree_node:\n",
    "    def __init__(self, val = None):\n",
    "        self.data = val\n",
    "        self.left = None\n",
    "        self.right = None\n",
    "        self.height = 1\n",
    "\n",
    "def AVL_insert(root, val): \n",
    "    # creat a binary tree\n",
    "    # creat new node\n",
    "    new_node = tree_node(val)\n",
    "\n",
    "    # check whether root is empty tree\n",
    "    if root.data == None:\n",
    "        root = new_node\n",
    "        return root\n",
    "    # if root isn't empty tree, find where we need to insert new node\n",
    "    else:\n",
    "        cur_node = root\n",
    "        # start finding\n",
    "        while cur_node != None:\n",
    "            pre_node = cur_node\n",
    "            pre_node.height = pre_node.height + 1\n",
    "            if cur_node.data > val:\n",
    "                cur_node = cur_node.left\n",
    "                pre_node.height = 1 + max( getHeight(pre_node.right),  1 + getHeight(pre_node.left) )\n",
    "            else:\n",
    "                cur_node = cur_node.right\n",
    "                pre_node.height = 1 + max( 1 + getHeight(pre_node.right),  getHeight(pre_node.left) )\n",
    "\n",
    "        # insert new node        \n",
    "        if pre_node.data > val:\n",
    "            pre_node.left = new_node\n",
    "            insert_position = \"left\"\n",
    "        else:\n",
    "            pre_node.right = new_node\n",
    "            insert_position = \"right\"\n",
    "\n",
    "    # check whether tree is balance\n",
    "    balance = getHeight(root.left) - getHeight(root.right)\n",
    "\n",
    "    # then try out the 4 cases\n",
    "    # Case 1 - Left Left\n",
    "    if balance > 1 and val < root.left.data:\n",
    "        return rightRotate(root)\n",
    "\n",
    "    # Case 2 - Right Right\n",
    "    if balance < -1 and val > root.right.data:\n",
    "        return leftRotate(root)\n",
    "\n",
    "    # Case 3 - Left Right\n",
    "    if balance > 1 and val > root.left.data:\n",
    "        root.left = leftRotate(root.left)\n",
    "        return rightRotate(root)\n",
    "\n",
    "    # Case 4 - Right Left\n",
    "    if balance < -1 and val < root.right.data:\n",
    "        root.right = rightRotate(root.right)\n",
    "        return leftRotate(root)\n",
    "\n",
    "    return root\n",
    "\n",
    "\n",
    "def leftRotate(root):\n",
    "    # save newe node\n",
    "    new_root = root.right\n",
    "    root_right = new_root.left\n",
    "\n",
    "    # Perform rotation\n",
    "    new_root.left = root\n",
    "    root.right = root_right\n",
    "\n",
    "    # Update heights\n",
    "    root.height = 1 + max( getHeight(root.right),  getHeight(root.left) )\n",
    "    new_root.height = 1 + max( getHeight(new_root.right),  getHeight(new_root.left) )\n",
    "\n",
    "    # Return the new root\n",
    "    return new_root\n",
    "\n",
    "def rightRotate(root):\n",
    "    # save newe node\n",
    "    new_root = root.left\n",
    "    root_left = new_root.right\n",
    "\n",
    "    # Perform rotation\n",
    "    new_root.right = root\n",
    "    root.left = root_left\n",
    "\n",
    "    # Update heights\n",
    "    root.height = 1 + max( getHeight(root.right),  getHeight(root.left) )\n",
    "    new_root.height = 1 + max( getHeight(new_root.right),  getHeight(new_root.left) )\n",
    "\n",
    "    # Return the new root\n",
    "    return new_root\n",
    "\n",
    "def getHeight(root):\n",
    "    if root == None:\n",
    "        return 0\n",
    "    return root.height"
   ]
  },
  {
   "cell_type": "code",
   "execution_count": 27,
   "metadata": {},
   "outputs": [],
   "source": [
    "def inorder(ptr):\n",
    "    if ptr!=None:\n",
    "        inorder(ptr.left)\n",
    "        print('[%2d] ' %ptr.data, end='')\n",
    "        inorder(ptr.right)"
   ]
  },
  {
   "cell_type": "code",
   "execution_count": 28,
   "metadata": {},
   "outputs": [
    {
     "name": "stdout",
     "output_type": "stream",
     "text": [
      "6\n",
      "5\n",
      "24\n"
     ]
    }
   ],
   "source": [
    "#主程式\n",
    "data = [5,6,24,8,12,3,17,1,9]\n",
    "ptr = tree_node()\n",
    "for i in range(3):\n",
    "    ptr=AVL_insert(ptr,data[i])       #建立二元樹\n",
    "print(ptr.data)\n",
    "print(ptr.left.data)\n",
    "print(ptr.right.data)"
   ]
  },
  {
   "cell_type": "code",
   "execution_count": 29,
   "metadata": {},
   "outputs": [
    {
     "name": "stdout",
     "output_type": "stream",
     "text": [
      "6\n",
      "5\n",
      "24\n",
      "8\n"
     ]
    }
   ],
   "source": [
    "#主程式\n",
    "data = [5,6,24,8,12,3,17,1,9]\n",
    "ptr = tree_node()\n",
    "for i in range(4):\n",
    "    ptr=AVL_insert(ptr,data[i])       #建立二元樹\n",
    "print(ptr.data)\n",
    "print(ptr.left.data)\n",
    "print(ptr.right.data)\n",
    "print(ptr.right.left.data)"
   ]
  },
  {
   "cell_type": "code",
   "execution_count": 30,
   "metadata": {},
   "outputs": [
    {
     "name": "stdout",
     "output_type": "stream",
     "text": [
      "8\n",
      "6\n",
      "5\n",
      "24\n",
      "12\n"
     ]
    }
   ],
   "source": [
    "#主程式\n",
    "data = [5,6,24,8,12,3,17,1,9]\n",
    "ptr = tree_node()\n",
    "for i in range(5):\n",
    "    ptr=AVL_insert(ptr,data[i])       #建立二元樹\n",
    "print(ptr.data)\n",
    "print(ptr.left.data)\n",
    "print(ptr.left.left.data)\n",
    "print(ptr.right.data)\n",
    "print(ptr.right.left.data)"
   ]
  },
  {
   "cell_type": "code",
   "execution_count": 31,
   "metadata": {},
   "outputs": [
    {
     "name": "stdout",
     "output_type": "stream",
     "text": [
      "8\n",
      "6\n",
      "5\n",
      "3\n",
      "24\n",
      "12\n"
     ]
    }
   ],
   "source": [
    "#主程式\n",
    "data = [5,6,24,8,12,3,17,1,9]\n",
    "ptr = tree_node()\n",
    "for i in range(6):\n",
    "    ptr=AVL_insert(ptr,data[i])       #建立二元樹\n",
    "print(ptr.data)\n",
    "print(ptr.left.data)\n",
    "print(ptr.left.left.data)\n",
    "print(ptr.left.left.left.data)\n",
    "print(ptr.right.data)\n",
    "print(ptr.right.left.data)"
   ]
  },
  {
   "cell_type": "code",
   "execution_count": 32,
   "metadata": {},
   "outputs": [
    {
     "name": "stdout",
     "output_type": "stream",
     "text": [
      "8\n",
      "6\n",
      "5\n",
      "3\n",
      "24\n",
      "12\n",
      "17\n"
     ]
    }
   ],
   "source": [
    "#主程式\n",
    "data = [5,6,24,8,12,3,17,1,9]\n",
    "ptr = tree_node()\n",
    "for i in range(7):\n",
    "    ptr=AVL_insert(ptr,data[i])       #建立二元樹\n",
    "print(ptr.data)\n",
    "print(ptr.left.data)\n",
    "print(ptr.left.left.data)\n",
    "print(ptr.left.left.left.data)\n",
    "print(ptr.right.data)\n",
    "print(ptr.right.left.data)\n",
    "print(ptr.right.left.right.data)"
   ]
  },
  {
   "cell_type": "code",
   "execution_count": 33,
   "metadata": {},
   "outputs": [
    {
     "name": "stdout",
     "output_type": "stream",
     "text": [
      "8\n",
      "6\n",
      "5\n",
      "3\n",
      "1\n",
      "24\n",
      "12\n",
      "17\n"
     ]
    }
   ],
   "source": [
    "#主程式\n",
    "data = [5,6,24,8,12,3,17,1,9]\n",
    "ptr = tree_node()\n",
    "for i in range(8):\n",
    "    ptr=AVL_insert(ptr,data[i])       #建立二元樹\n",
    "print(ptr.data)\n",
    "print(ptr.left.data)\n",
    "print(ptr.left.left.data)\n",
    "print(ptr.left.left.left.data)\n",
    "print(ptr.left.left.left.left.data)\n",
    "print(ptr.right.data)\n",
    "print(ptr.right.left.data)\n",
    "print(ptr.right.left.right.data)"
   ]
  },
  {
   "cell_type": "code",
   "execution_count": 34,
   "metadata": {},
   "outputs": [
    {
     "name": "stdout",
     "output_type": "stream",
     "text": [
      "8\n",
      "6\n",
      "5\n",
      "3\n",
      "1\n",
      "24\n",
      "12\n",
      "9\n",
      "17\n"
     ]
    }
   ],
   "source": [
    "#主程式\n",
    "data = [5,6,24,8,12,3,17,1,9]\n",
    "ptr = tree_node()\n",
    "for i in range(9):\n",
    "    ptr=AVL_insert(ptr,data[i])       #建立二元樹\n",
    "print(ptr.data)\n",
    "print(ptr.left.data)\n",
    "print(ptr.left.left.data)\n",
    "print(ptr.left.left.left.data)\n",
    "print(ptr.left.left.left.left.data)\n",
    "print(ptr.right.data)\n",
    "print(ptr.right.left.data)\n",
    "print(ptr.right.left.left.data)\n",
    "print(ptr.right.left.right.data)"
   ]
  }
 ],
 "metadata": {
  "kernelspec": {
   "display_name": "Python 3",
   "language": "python",
   "name": "python3"
  },
  "language_info": {
   "codemirror_mode": {
    "name": "ipython",
    "version": 3
   },
   "file_extension": ".py",
   "mimetype": "text/x-python",
   "name": "python",
   "nbconvert_exporter": "python",
   "pygments_lexer": "ipython3",
   "version": "3.7.6"
  }
 },
 "nbformat": 4,
 "nbformat_minor": 4
}
