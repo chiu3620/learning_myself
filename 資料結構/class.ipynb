{
 "cells": [
  {
   "cell_type": "markdown",
   "metadata": {},
   "source": [
    "# [Python物件導向]Python繼承(Inheritance)實用教學\n",
    "ref. https://www.learncodewithmike.com/2020/01/python-inheritance.htm"
   ]
  },
  {
   "cell_type": "markdown",
   "metadata": {},
   "source": [
    "## 如何使用Python繼承(Inheritance)"
   ]
  },
  {
   "cell_type": "code",
   "execution_count": null,
   "metadata": {},
   "outputs": [],
   "source": [
    "class Car:\n",
    "    # 駕駛方法\n",
    "    def drive(self):\n",
    "        print(\"drive method is called.\")\n",
    "    # 加速方法\n",
    "    def accelerate(self):\n",
    "        print(\"accelerate method is called.\")\n",
    "# 飛機類別\n",
    "class Airplane:\n",
    "    # 駕駛方法\n",
    "    def drive(self):\n",
    "        print(\"drive method is called.\")\n",
    "    # 飛行方法\n",
    "    def fly(self):\n",
    "        print(\"fly method is called.\")"
   ]
  },
  {
   "cell_type": "code",
   "execution_count": 2,
   "metadata": {},
   "outputs": [],
   "source": [
    "class Transportation:\n",
    "    # 建構式\n",
    "    def __init__(self):\n",
    "        self.color = \"white\"  #顏色屬性\n",
    "    # 駕駛方法\n",
    "    def drive(self):\n",
    "        print(\"drive method is called.\")\n",
    "\n",
    "# 汽車子類別\n",
    "class Car(Transportation):\n",
    "    # 加速方法\n",
    "    def accelerate(self):\n",
    "        print(\"accelerate is method called.\")\n",
    "\n",
    "# 飛機子類別\n",
    "class Airplane(Transportation):\n",
    "    # 飛行方法\n",
    "    def fly(self):\n",
    "        print(\"fly method is called.\")"
   ]
  },
  {
   "cell_type": "code",
   "execution_count": 3,
   "metadata": {},
   "outputs": [
    {
     "name": "stdout",
     "output_type": "stream",
     "text": [
      "drive method is called.\n",
      "white\n"
     ]
    }
   ],
   "source": [
    "mazda = Car()\n",
    "mazda.drive()\n",
    "print(mazda.color)"
   ]
  },
  {
   "cell_type": "markdown",
   "metadata": {},
   "source": [
    "## 方法覆寫(Method Overriding)"
   ]
  },
  {
   "cell_type": "code",
   "execution_count": 1,
   "metadata": {},
   "outputs": [],
   "source": [
    "# 交通工具(基底類別)\n",
    "class Transportation:\n",
    "    # 駕駛方法\n",
    "    def drive(self):\n",
    "        print(\"Base class drive method is called.\")\n",
    "# 汽車子類別\n",
    "class Car(Transportation):\n",
    "    # 駕駛方法\n",
    "    def drive(self):\n",
    "        print(\"Sub class drive method is called.\")"
   ]
  },
  {
   "cell_type": "code",
   "execution_count": 2,
   "metadata": {},
   "outputs": [
    {
     "name": "stdout",
     "output_type": "stream",
     "text": [
      "Sub class drive method is called.\n"
     ]
    }
   ],
   "source": [
    "mazda = Car()\n",
    "mazda.drive()"
   ]
  },
  {
   "cell_type": "code",
   "execution_count": 3,
   "metadata": {},
   "outputs": [],
   "source": [
    "# 交通工具(基底類別)\n",
    "class Transportation:\n",
    "    # 駕駛方法\n",
    "    def drive(self):\n",
    "        print(\"Base class drive method is called.\")\n",
    "# 汽車子類別\n",
    "class Car(Transportation):\n",
    "    # 駕駛方法\n",
    "    def drive(self):\n",
    "        super().drive()\n",
    "        print(\"Sub class drive method is called.\")"
   ]
  },
  {
   "cell_type": "code",
   "execution_count": 4,
   "metadata": {},
   "outputs": [
    {
     "name": "stdout",
     "output_type": "stream",
     "text": [
      "Base class drive method is called.\n",
      "Sub class drive method is called.\n"
     ]
    }
   ],
   "source": [
    "mazda = Car()\n",
    "mazda.drive()"
   ]
  },
  {
   "cell_type": "markdown",
   "metadata": {},
   "source": [
    "## 多層繼承(Multi-Level Inheritance)"
   ]
  },
  {
   "cell_type": "code",
   "execution_count": 9,
   "metadata": {},
   "outputs": [],
   "source": [
    "# 動物類別\n",
    "class Animal:\n",
    "    def life(self):\n",
    "        print(\"life\")\n",
    "\n",
    "# 鳥類類別\n",
    "class Bird(Animal):\n",
    "    # 飛行方法\n",
    "    def fly(self):\n",
    "        print(\"fly\")\n",
    "\n",
    "# 鴨子類別\n",
    "class Duck(Bird):\n",
    "    pass"
   ]
  },
  {
   "cell_type": "code",
   "execution_count": 11,
   "metadata": {},
   "outputs": [
    {
     "name": "stdout",
     "output_type": "stream",
     "text": [
      "life\n",
      "fly\n"
     ]
    }
   ],
   "source": [
    "duck = Duck()\n",
    "duck.life()\n",
    "duck.fly()"
   ]
  },
  {
   "cell_type": "markdown",
   "metadata": {},
   "source": [
    "## 多重繼承(Multiple Inheritance)"
   ]
  },
  {
   "cell_type": "code",
   "execution_count": 3,
   "metadata": {},
   "outputs": [],
   "source": [
    "# 動物類別\n",
    "class Animal:\n",
    "    def eat(self):\n",
    "        print(\"Animal eat method is called.\")\n",
    "# 鳥類類別\n",
    "class Bird:\n",
    "    def eat(self):\n",
    "        print(\"Bird fly method is called.\")\n",
    "# 鴨子類別\n",
    "class Duck(Animal, Bird):\n",
    "    pass"
   ]
  },
  {
   "cell_type": "code",
   "execution_count": 4,
   "metadata": {},
   "outputs": [
    {
     "name": "stdout",
     "output_type": "stream",
     "text": [
      "Animal eat method is called.\n"
     ]
    }
   ],
   "source": [
    "duck = Duck()\n",
    "duck.eat()"
   ]
  },
  {
   "cell_type": "code",
   "execution_count": 17,
   "metadata": {},
   "outputs": [],
   "source": [
    "# 動物類別\n",
    "class Animal:\n",
    "    def eat(self):\n",
    "        print(\"Animal eat method is called.\")\n",
    "        \n",
    "# 鳥類類別\n",
    "class Bird:\n",
    "    def eat(self):\n",
    "        print(\"Bird fly method is called.\")\n",
    "        \n",
    "# 鴨子類別\n",
    "class Duck(Animal, Bird):\n",
    "    def eat(self):\n",
    "        super().eat()"
   ]
  },
  {
   "cell_type": "code",
   "execution_count": 18,
   "metadata": {},
   "outputs": [
    {
     "name": "stdout",
     "output_type": "stream",
     "text": [
      "Animal eat method is called.\n"
     ]
    }
   ],
   "source": [
    "duck = Duck()\n",
    "duck.eat()"
   ]
  },
  {
   "cell_type": "code",
   "execution_count": 35,
   "metadata": {},
   "outputs": [
    {
     "data": {
      "text/plain": [
       "[__main__.Duck, __main__.Animal, __main__.Bird, object]"
      ]
     },
     "execution_count": 35,
     "metadata": {},
     "output_type": "execute_result"
    }
   ],
   "source": [
    "Duck.mro()"
   ]
  },
  {
   "cell_type": "code",
   "execution_count": null,
   "metadata": {},
   "outputs": [],
   "source": []
  },
  {
   "cell_type": "code",
   "execution_count": null,
   "metadata": {},
   "outputs": [],
   "source": []
  },
  {
   "cell_type": "markdown",
   "metadata": {},
   "source": [
    "# Python 繼承 543\n",
    "ref. https://dboyliao.medium.com/python-%E7%B9%BC%E6%89%BF-543-bc3d8ef51d6d"
   ]
  },
  {
   "cell_type": "markdown",
   "metadata": {},
   "source": [
    "## Python 繼承極簡介"
   ]
  },
  {
   "cell_type": "code",
   "execution_count": null,
   "metadata": {},
   "outputs": [],
   "source": [
    "class Equus:\n",
    "    def __init__(self, is_male):\n",
    "        pass\n",
    "    def run(self):\n",
    "        print(f'I run at speed {self.speed}')\n",
    "        print(f'I\\'m {self.gender}')\n",
    "        \n",
    "class Horse(Equus):\n",
    "    def __init__(self, is_male):\n",
    "        print('Horse init')\n",
    "        self.speed = 30\n",
    "        self.gender = 'male' if is_male else 'female'\n",
    "        self.is_horse = True\n",
    "    def roar(self):\n",
    "        print('Hee haw~')\n",
    "        \n",
    "class Donkey(Equus):\n",
    "    def __init__(self, is_female):\n",
    "        print('Donkey init')\n",
    "        self.speed = 20\n",
    "        self.gender = 'female' if is_female else 'male'\n",
    "        self.is_donkey = True\n",
    "    def roar(self):\n",
    "        print('Hee haw hee hee haw~')"
   ]
  },
  {
   "cell_type": "markdown",
   "metadata": {},
   "source": [
    "## super 的美麗與哀愁"
   ]
  },
  {
   "cell_type": "markdown",
   "metadata": {},
   "source": [
    "### bound method"
   ]
  },
  {
   "cell_type": "code",
   "execution_count": 3,
   "metadata": {},
   "outputs": [],
   "source": [
    "class MiniHorse(Horse):\n",
    "    def __init__(self, is_male='male', leg_length=30):\n",
    "        super().__init__(is_male)\n",
    "        self.leg_length = leg_length\n",
    "        \n",
    "    def roar(self):\n",
    "        super().roar()\n",
    "        print('mini mini mini')"
   ]
  },
  {
   "cell_type": "code",
   "execution_count": 4,
   "metadata": {},
   "outputs": [
    {
     "name": "stdout",
     "output_type": "stream",
     "text": [
      "Horse init\n"
     ]
    }
   ],
   "source": [
    "test = MiniHorse()"
   ]
  },
  {
   "cell_type": "code",
   "execution_count": 5,
   "metadata": {},
   "outputs": [
    {
     "name": "stdout",
     "output_type": "stream",
     "text": [
      "Hee haw~\n",
      "mini mini mini\n"
     ]
    }
   ],
   "source": [
    "test.roar()"
   ]
  },
  {
   "cell_type": "markdown",
   "metadata": {},
   "source": [
    "### unbound method"
   ]
  },
  {
   "cell_type": "code",
   "execution_count": null,
   "metadata": {},
   "outputs": [],
   "source": [
    "class MiniHorse(Horse):\n",
    "    def __init__(self, is_male):\n",
    "        Horse.__init__(self, is_male)\n",
    "        self.leg_length = leg_length\n",
    "    \n",
    "    def roar(self):\n",
    "        Horse.roar(self)\n",
    "        print('mini mini mini')"
   ]
  },
  {
   "cell_type": "code",
   "execution_count": 6,
   "metadata": {},
   "outputs": [
    {
     "name": "stdout",
     "output_type": "stream",
     "text": [
      "Horse init\n"
     ]
    }
   ],
   "source": [
    "test = MiniHorse()"
   ]
  },
  {
   "cell_type": "code",
   "execution_count": 7,
   "metadata": {},
   "outputs": [
    {
     "name": "stdout",
     "output_type": "stream",
     "text": [
      "Hee haw~\n",
      "mini mini mini\n"
     ]
    }
   ],
   "source": [
    "test.roar()"
   ]
  },
  {
   "cell_type": "markdown",
   "metadata": {},
   "source": [
    "## 多重繼承 (multiple inheritance)"
   ]
  },
  {
   "cell_type": "code",
   "execution_count": 1,
   "metadata": {},
   "outputs": [],
   "source": [
    "class Equus:\n",
    "    def __init__(self, is_male):\n",
    "        pass\n",
    "    def run(self):\n",
    "        print(f'I run at speed {self.speed}')\n",
    "        print(f'I\\'m {self.gender}')\n",
    "    \n",
    "    def roar(self):\n",
    "        print('Equus roars')\n",
    "        \n",
    "class Horse(Equus):\n",
    "    def __init__(self, is_male):\n",
    "        print('Horse init')\n",
    "        self.speed = 30\n",
    "        self.gender = 'male' if is_male else 'female'\n",
    "        self.is_horse = True\n",
    "        \n",
    "    def roar(self):\n",
    "        print('Horse: Hee haw~')\n",
    "        super().roar()\n",
    "        \n",
    "class Donkey(Equus):\n",
    "    def __init__(self, is_female):\n",
    "        print('Donkey init')\n",
    "        self.speed = 20\n",
    "        self.gender = 'female' if is_female else 'male'\n",
    "        self.is_donkey = True\n",
    "        \n",
    "    def roar(self):\n",
    "        print('Donkey: Hee haw hee hee haw~')\n",
    "        super().roar()"
   ]
  },
  {
   "cell_type": "code",
   "execution_count": 2,
   "metadata": {},
   "outputs": [],
   "source": [
    "class Mule(Horse, Donkey):\n",
    "    def __init__(self, is_male='male'):\n",
    "        print('Mule init')\n",
    "        super().__init__(is_male)\n",
    "    \n",
    "    def roar(self):\n",
    "        print('Mule: Muuuuleee~~~')\n",
    "        super().roar()"
   ]
  },
  {
   "cell_type": "code",
   "execution_count": 3,
   "metadata": {},
   "outputs": [
    {
     "name": "stdout",
     "output_type": "stream",
     "text": [
      "Mule init\n",
      "Horse init\n"
     ]
    }
   ],
   "source": [
    "test = Mule()"
   ]
  },
  {
   "cell_type": "code",
   "execution_count": 4,
   "metadata": {},
   "outputs": [
    {
     "name": "stdout",
     "output_type": "stream",
     "text": [
      "Mule: Muuuuleee~~~\n",
      "Horse: Hee haw~\n",
      "Donkey: Hee haw hee hee haw~\n",
      "Equus roars\n"
     ]
    }
   ],
   "source": [
    "test.roar()"
   ]
  },
  {
   "cell_type": "markdown",
   "metadata": {},
   "source": [
    "### MRO and C3 Linearization\n",
    "To deal with the multiple inheritance, as we use super(), it will establish a \"mro\" by C3 Linearization, and then it will follow this mro to call \"class function\"."
   ]
  },
  {
   "cell_type": "code",
   "execution_count": 5,
   "metadata": {},
   "outputs": [
    {
     "data": {
      "text/plain": [
       "[__main__.Mule, __main__.Horse, __main__.Donkey, __main__.Equus, object]"
      ]
     },
     "execution_count": 5,
     "metadata": {},
     "output_type": "execute_result"
    }
   ],
   "source": [
    "Mule.mro()"
   ]
  },
  {
   "cell_type": "markdown",
   "metadata": {},
   "source": [
    "##  super().\\_\\_init\\_\\_()"
   ]
  },
  {
   "cell_type": "code",
   "execution_count": 6,
   "metadata": {},
   "outputs": [],
   "source": [
    "class Equus:\n",
    "    def __init__(self, is_male):\n",
    "        pass\n",
    "    def run(self):\n",
    "        print(f'I run at speed {self.speed}')\n",
    "        print(f'I\\'m {self.gender}')\n",
    "    \n",
    "    def roar(self):\n",
    "        print('Equus roars')\n",
    "        \n",
    "class Horse(Equus):\n",
    "    def __init__(self, is_male):\n",
    "        print('Horse init')\n",
    "        self.speed = 30\n",
    "        self.gender = 'male' if is_male else 'female'\n",
    "        self.is_horse = True\n",
    "        \n",
    "    def roar(self):\n",
    "        print('Horse: Hee haw~')\n",
    "        super().roar()\n",
    "        \n",
    "class Donkey(Equus):\n",
    "    def __init__(self, is_female):\n",
    "        print('Donkey init')\n",
    "        self.speed = 20\n",
    "        self.gender = 'female' if is_female else 'male'\n",
    "        self.is_donkey = True\n",
    "        \n",
    "    def roar(self):\n",
    "        print('Donkey: Hee haw hee hee haw~')\n",
    "        super().roar()"
   ]
  },
  {
   "cell_type": "code",
   "execution_count": 7,
   "metadata": {},
   "outputs": [],
   "source": [
    "class Mule(Horse, Donkey):\n",
    "    def __init__(self, is_male):\n",
    "        print('Mule init')\n",
    "        super().__init__(is_male)\n",
    "    \n",
    "    def roar(self):\n",
    "        print('Mule: Muuuuleee~~~')\n",
    "        super().roar()"
   ]
  },
  {
   "cell_type": "code",
   "execution_count": 8,
   "metadata": {},
   "outputs": [],
   "source": [
    "def feed_horse(horse):\n",
    "    try:\n",
    "        if horse.is_horse:\n",
    "            horse.speed += 1\n",
    "        else:\n",
    "            horse.speed -= 3\n",
    "    except:\n",
    "        horse.speed -= 5\n",
    "def feed_donkey(donkey):\n",
    "    try:\n",
    "        if donkey.is_donkey:\n",
    "            donkey.speed += 1\n",
    "        else:\n",
    "            donkey.speed -= 3\n",
    "    except:\n",
    "        donkey.speed -= 5"
   ]
  },
  {
   "cell_type": "code",
   "execution_count": null,
   "metadata": {},
   "outputs": [],
   "source": []
  },
  {
   "cell_type": "code",
   "execution_count": null,
   "metadata": {},
   "outputs": [],
   "source": [
    "class Equus:\n",
    "    def __init__(self, is_male):\n",
    "        pass\n",
    "    def run(self):\n",
    "        print(f'I run at speed {self.speed}')\n",
    "        print(f'I\\'m {self.gender}')\n",
    "    \n",
    "    def roar(self):\n",
    "        print('Equus roars')\n",
    "        \n",
    "class Horse(Equus):\n",
    "    def __init__(self, is_male):\n",
    "        print('Horse init')\n",
    "        self.speed = 30\n",
    "        self.gender = 'male' if is_male else 'female'\n",
    "        self.is_horse = True\n",
    "        super().__init__(is_male)\n",
    "    def roar(self):\n",
    "        print('Horse: Hee haw~')\n",
    "        super().roar()\n",
    "        \n",
    "class Donkey(Equus):\n",
    "    def __init__(self, is_female):\n",
    "        print('Donkey init')\n",
    "        self.speed = 20\n",
    "        self.gender = 'female' if is_female else 'male'\n",
    "        self.is_donkey = True\n",
    "        super().__init__(is_female)\n",
    "    def roar(self):\n",
    "        print('Donkey: Hee haw hee hee haw~')\n",
    "        super().roar()\n",
    "        \n",
    "class Mule(Horse, Donkey):\n",
    "    def __init__(self, is_male):\n",
    "        print('Mule init')\n",
    "        super().__init__(is_male)\n",
    "    \n",
    "    def roar(self):\n",
    "        print('Mule: Muuuuleee~~~')\n",
    "        super().roar()"
   ]
  },
  {
   "cell_type": "code",
   "execution_count": null,
   "metadata": {},
   "outputs": [],
   "source": []
  },
  {
   "cell_type": "code",
   "execution_count": 12,
   "metadata": {},
   "outputs": [],
   "source": [
    "class Equus:\n",
    "    def __init__(self, is_male):\n",
    "        pass\n",
    "    def run(self):\n",
    "        print(f'I run at speed {self.speed}')\n",
    "        print(f'I\\'m {self.gender}')\n",
    "    \n",
    "    def roar(self):\n",
    "        print('Equus roars')\n",
    "        \n",
    "class Horse:\n",
    "    def __init__(self, is_male):\n",
    "        print('Horse init')\n",
    "        self.speed = 30\n",
    "        self.gender = 'male' if is_male else 'female'\n",
    "        self.is_horse = True\n",
    "        super().__init__(is_male)\n",
    "    def roar(self):\n",
    "        print('Horse: Hee haw~')\n",
    "        super().roar()\n",
    "        \n",
    "class Donkey:\n",
    "    def __init__(self, is_female):\n",
    "        print('Donkey init')\n",
    "        self.speed = 20\n",
    "        self.gender = 'female' if is_female else 'male'\n",
    "        self.is_donkey = True\n",
    "#         super().__init__(is_female)\n",
    "    def roar(self):\n",
    "        print('Donkey: Hee haw hee hee haw~')\n",
    "        super().roar()\n",
    "        \n",
    "class Mule(Horse, Donkey):\n",
    "    def __init__(self, is_male):\n",
    "        print('Mule init')\n",
    "        super().__init__(is_male)\n",
    "    \n",
    "    def roar(self):\n",
    "        print('Mule: Muuuuleee~~~')\n",
    "        super().roar()"
   ]
  },
  {
   "cell_type": "code",
   "execution_count": 13,
   "metadata": {},
   "outputs": [
    {
     "name": "stdout",
     "output_type": "stream",
     "text": [
      "Mule init\n",
      "Horse init\n",
      "Donkey init\n"
     ]
    }
   ],
   "source": [
    "mule = Mule(is_male = True)"
   ]
  },
  {
   "cell_type": "code",
   "execution_count": null,
   "metadata": {},
   "outputs": [],
   "source": []
  }
 ],
 "metadata": {
  "kernelspec": {
   "display_name": "Python 3",
   "language": "python",
   "name": "python3"
  },
  "language_info": {
   "codemirror_mode": {
    "name": "ipython",
    "version": 3
   },
   "file_extension": ".py",
   "mimetype": "text/x-python",
   "name": "python",
   "nbconvert_exporter": "python",
   "pygments_lexer": "ipython3",
   "version": "3.7.9"
  }
 },
 "nbformat": 4,
 "nbformat_minor": 4
}
