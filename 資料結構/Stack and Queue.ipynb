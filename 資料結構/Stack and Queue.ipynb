{
 "cells": [
  {
   "cell_type": "markdown",
   "metadata": {},
   "source": [
    "## Stack\n",
    "* LIFO: last in, first out\n",
    "* Operations:\n",
    "    1. push(item): add a new item at the last of stack\n",
    "    2. pop(): remove the last one item\n",
    "    3. peek(): return the last one item of stack\n",
    "    4. isEmpty(): return True if stack is empty\\\\\n",
    "* ref:\n",
    "    * https://docs.python.org/zh-tw/3/tutorial/datastructures.html\n",
    "    * https://runestone.academy/runestone/books/published/pythonds/BasicDS/ImplementingaStackinPython.html\n",
    "    * https://www.geeksforgeeks.org/stack-in-python/"
   ]
  },
  {
   "cell_type": "markdown",
   "metadata": {},
   "source": [
    "### Use list to implement stack"
   ]
  },
  {
   "cell_type": "code",
   "execution_count": 1,
   "metadata": {},
   "outputs": [
    {
     "name": "stdout",
     "output_type": "stream",
     "text": [
      "Initial stack\n",
      "['a', 'b', 'c']\n"
     ]
    }
   ],
   "source": [
    "# Python program to \n",
    "# demonstrate stack implementation\n",
    "# using list\n",
    "stack = []\n",
    "\n",
    "# append() function to push\n",
    "# element in the stack\n",
    "stack.append('a')\n",
    "stack.append('b')\n",
    "stack.append('c')\n",
    "print('Initial stack')\n",
    "print(stack)"
   ]
  },
  {
   "cell_type": "code",
   "execution_count": 2,
   "metadata": {
    "scrolled": true
   },
   "outputs": [
    {
     "name": "stdout",
     "output_type": "stream",
     "text": [
      "Initial stack\n",
      "['a', 'b', 'c']\n",
      "Elements poped from stack:\n",
      "c\n",
      "Stack after elements are poped:\n",
      "['a', 'b']\n",
      "Elements poped from stack:\n",
      "b\n",
      "Stack after elements are poped:\n",
      "['a']\n",
      "Elements poped from stack:\n",
      "a\n",
      "Stack after elements are poped:\n",
      "[]\n"
     ]
    }
   ],
   "source": [
    "# pop() fucntion to pop\n",
    "# element from stack in \n",
    "# LIFO order\n",
    "stack = ['a', 'b', 'c']\n",
    "print('Initial stack')\n",
    "print(stack)\n",
    "\n",
    "print('Elements poped from stack:')\n",
    "print(stack.pop())\n",
    "print('Stack after elements are poped:')\n",
    "print(stack)\n",
    "\n",
    "print('Elements poped from stack:')\n",
    "print(stack.pop())\n",
    "print('Stack after elements are poped:')\n",
    "print(stack)\n",
    "\n",
    "print('Elements poped from stack:')\n",
    "print(stack.pop())\n",
    "print('Stack after elements are poped:')\n",
    "print(stack)"
   ]
  },
  {
   "cell_type": "code",
   "execution_count": 3,
   "metadata": {},
   "outputs": [
    {
     "data": {
      "text/plain": [
       "'c'"
      ]
     },
     "execution_count": 3,
     "metadata": {},
     "output_type": "execute_result"
    }
   ],
   "source": [
    "# peek()\n",
    "stack = ['a', 'b', 'c']\n",
    "stack[-1]"
   ]
  },
  {
   "cell_type": "code",
   "execution_count": 4,
   "metadata": {},
   "outputs": [
    {
     "data": {
      "text/plain": [
       "False"
      ]
     },
     "execution_count": 4,
     "metadata": {},
     "output_type": "execute_result"
    }
   ],
   "source": [
    "# isempty()\n",
    "stack = ['a', 'b', 'c']\n",
    "stack == []"
   ]
  },
  {
   "cell_type": "markdown",
   "metadata": {},
   "source": [
    "### Use class to implement stack"
   ]
  },
  {
   "cell_type": "code",
   "execution_count": 5,
   "metadata": {},
   "outputs": [],
   "source": [
    "class stack_2:\n",
    "    def __init__(self):\n",
    "        self.item = []\n",
    "\n",
    "    def isEmpty(self):\n",
    "        return self.item == []\n",
    "\n",
    "    def push(self, data):\n",
    "         self.item.append(data)\n",
    "\n",
    "    def pop(self):\n",
    "         return self.item.pop()\n",
    "\n",
    "    def peek(self):\n",
    "         return self.item[-1]\n",
    "\n",
    "    def size(self):\n",
    "         return len(self.item)"
   ]
  },
  {
   "cell_type": "code",
   "execution_count": 6,
   "metadata": {},
   "outputs": [
    {
     "name": "stdout",
     "output_type": "stream",
     "text": [
      "[]\n",
      "['a', 'b', 'c']\n",
      "['a', 'b']\n"
     ]
    }
   ],
   "source": [
    "stack_test = stack_2()\n",
    "print(stack_test.item)\n",
    "stack_test.push('a')\n",
    "stack_test.push('b')\n",
    "stack_test.push('c')\n",
    "stack_test.item\n",
    "print(stack_test.item)\n",
    "stack_test.pop()\n",
    "print(stack_test.item)"
   ]
  },
  {
   "cell_type": "code",
   "execution_count": 7,
   "metadata": {},
   "outputs": [
    {
     "name": "stdout",
     "output_type": "stream",
     "text": [
      "['a', 'b']\n",
      "b\n",
      "2\n",
      "False\n"
     ]
    }
   ],
   "source": [
    "print(stack_test.item)\n",
    "print(stack_test.peek())\n",
    "print(stack_test.size())\n",
    "print(stack_test.isEmpty())"
   ]
  },
  {
   "cell_type": "markdown",
   "metadata": {},
   "source": [
    "### Use single linked list to implement stack"
   ]
  },
  {
   "cell_type": "code",
   "execution_count": 8,
   "metadata": {},
   "outputs": [],
   "source": [
    "# Python program to demonstrate \n",
    "# stack implementation using a linked list. \n",
    "# node class\n",
    "class Node:\n",
    "    def __init__(self, value):\n",
    "        self.value = value\n",
    "        self.next = None\n",
    "\n",
    "class stack_3:\n",
    "# Initializing a stack. \n",
    "# Use a dummy node, which is \n",
    "# easier for handling edge cases.\n",
    "    def __init__(self):\n",
    "        self.head = Node(\"head\")\n",
    "        self.size = 0\n",
    "# String representation of the stack\n",
    "    def __str__(self):\n",
    "        cur = self.head.next\n",
    "        out = \"\"\n",
    "        while cur:\n",
    "            out += str(cur.value) + \"->\"\n",
    "            cur = cur.next\n",
    "        return out[:-3]   \n",
    " \n",
    "   # Get the current size of the stack\n",
    "    def getSize(self):\n",
    "        return self.size\n",
    "    \n",
    "   # Check if the stack is empty\n",
    "    def isEmpty(self):\n",
    "        return self.size == 0\n",
    "    \n",
    "   # Get the top item of the stack\n",
    "    def peek(self):\n",
    "        # Sanitary check to see if we \n",
    "        # are peeking an empty stack. \n",
    "        if self.isEmpty():\n",
    "            raise Exception(\"Peeking from an empty stack\")\n",
    "        return self.head.next.value\n",
    " \n",
    "   # Push a value into the stack. \n",
    "    def push(self, value):\n",
    "        node = Node(value)\n",
    "        node.next = self.head.next\n",
    "        self.head.next = node\n",
    "        self.size += 1\n",
    "      \n",
    "   # Remove a value from the stack and return. \n",
    "    def pop(self):\n",
    "        if self.isEmpty():\n",
    "            raise Exception(\"Popping from an empty stack\")\n",
    "        remove = self.head.next\n",
    "        self.head.next = self.head.next.next\n",
    "        self.size -= 1\n",
    "        return remove.value"
   ]
  },
  {
   "cell_type": "code",
   "execution_count": 9,
   "metadata": {},
   "outputs": [
    {
     "name": "stdout",
     "output_type": "stream",
     "text": [
      "Stack: 10->9->8->7->6->5->4->3->2->\n",
      "Pop: 10\n",
      "Stack: 9->8->7->6->5->4->3->2->\n",
      "Pop: 9\n",
      "Stack: 8->7->6->5->4->3->2->\n",
      "Pop: 8\n",
      "Stack: 7->6->5->4->3->2->\n",
      "Pop: 7\n",
      "Stack: 6->5->4->3->2->\n",
      "Pop: 6\n",
      "Stack: 5->4->3->2->\n"
     ]
    }
   ],
   "source": [
    "# Driver Code\n",
    "if __name__ == \"__main__\":\n",
    "    stack = stack_3()\n",
    "    for i in range(1, 11):\n",
    "        stack.push(i)\n",
    "    print(f\"Stack: {stack}\")\n",
    "\n",
    "    for _ in range(1, 6):\n",
    "        remove = stack.pop()\n",
    "        print(f\"Pop: {remove}\")\n",
    "        print(f\"Stack: {stack}\")"
   ]
  },
  {
   "cell_type": "markdown",
   "metadata": {},
   "source": [
    "## Queue\n",
    "* FIFO: first in, first out\n",
    "* Operations:\n",
    "    1. add(item): add a new item at the last of stack\n",
    "    2. remove(): remove the first one item\n",
    "    3. peek(): return the last one item of stack\n",
    "    4. isEmpty(): return True if stack is empty\n",
    "* ref:\n",
    "    * https://www.geeksforgeeks.org/queue-in-python/\n",
    "    * https://docs.python.org/zh-tw/3/tutorial/datastructures.html\n",
    "    * https://docs.python.org/zh-tw/3/library/collections.html#collections.deque\n",
    "    * https://www.geeksforgeeks.org/stack-in-python/"
   ]
  },
  {
   "cell_type": "markdown",
   "metadata": {},
   "source": [
    "### Use list to implement stack"
   ]
  },
  {
   "cell_type": "code",
   "execution_count": 10,
   "metadata": {},
   "outputs": [
    {
     "name": "stdout",
     "output_type": "stream",
     "text": [
      "Initial queue\n",
      "['a', 'b', 'c']\n"
     ]
    }
   ],
   "source": [
    "# Python program to \n",
    "# demonstrate stack implementation\n",
    "# using list\n",
    "queue = []\n",
    "\n",
    "# append() function to push\n",
    "# element in the stack\n",
    "queue.append('a')\n",
    "queue.append('b')\n",
    "queue.append('c')\n",
    "print('Initial queue')\n",
    "print(queue)"
   ]
  },
  {
   "cell_type": "code",
   "execution_count": 11,
   "metadata": {},
   "outputs": [
    {
     "name": "stdout",
     "output_type": "stream",
     "text": [
      "Initial queue\n",
      "['a', 'b', 'c']\n",
      "Elements poped from queue:\n",
      "a\n",
      "Queue after elements are poped:\n",
      "['b', 'c']\n",
      "Elements poped from stack:\n",
      "b\n",
      "Stack after elements are poped:\n",
      "['c']\n",
      "Elements poped from stack:\n",
      "c\n",
      "Stack after elements are poped:\n",
      "[]\n"
     ]
    }
   ],
   "source": [
    "# pop() fucntion to pop\n",
    "# element from stack in \n",
    "# LIFO order\n",
    "stack = ['a', 'b', 'c']\n",
    "print('Initial queue')\n",
    "print(queue)\n",
    "\n",
    "print('Elements poped from queue:')\n",
    "print(queue.pop(0))\n",
    "print('Queue after elements are poped:')\n",
    "print(queue)\n",
    "\n",
    "print('Elements poped from stack:')\n",
    "print(queue.pop(0))\n",
    "print('Stack after elements are poped:')\n",
    "print(queue)\n",
    "\n",
    "print('Elements poped from stack:')\n",
    "print(queue.pop(0))\n",
    "print('Stack after elements are poped:')\n",
    "print(queue)"
   ]
  },
  {
   "cell_type": "markdown",
   "metadata": {},
   "source": [
    "### Use package to implement queue"
   ]
  },
  {
   "cell_type": "code",
   "execution_count": 12,
   "metadata": {},
   "outputs": [],
   "source": [
    "from collections import deque"
   ]
  },
  {
   "cell_type": "code",
   "execution_count": 13,
   "metadata": {},
   "outputs": [],
   "source": [
    "queue_2 = deque([\"Eric\", \"John\", \"Michael\"])"
   ]
  },
  {
   "cell_type": "code",
   "execution_count": 14,
   "metadata": {},
   "outputs": [
    {
     "data": {
      "text/plain": [
       "deque(['Eric', 'John', 'Michael', 'Terry', 'Graham'])"
      ]
     },
     "execution_count": 14,
     "metadata": {},
     "output_type": "execute_result"
    }
   ],
   "source": [
    "# Terry arrives\n",
    "queue_2.append(\"Terry\")\n",
    "# Graham arrives\n",
    "queue_2.append(\"Graham\")\n",
    "queue_2"
   ]
  },
  {
   "cell_type": "code",
   "execution_count": 15,
   "metadata": {},
   "outputs": [
    {
     "data": {
      "text/plain": [
       "'Eric'"
      ]
     },
     "execution_count": 15,
     "metadata": {},
     "output_type": "execute_result"
    }
   ],
   "source": [
    "# The first to arrive now leaves\n",
    "queue_2.popleft()"
   ]
  },
  {
   "cell_type": "code",
   "execution_count": 16,
   "metadata": {},
   "outputs": [
    {
     "data": {
      "text/plain": [
       "'John'"
      ]
     },
     "execution_count": 16,
     "metadata": {},
     "output_type": "execute_result"
    }
   ],
   "source": [
    "# The second to arrive now leaves\n",
    "queue_2.popleft()"
   ]
  },
  {
   "cell_type": "code",
   "execution_count": 17,
   "metadata": {},
   "outputs": [
    {
     "data": {
      "text/plain": [
       "deque(['Michael', 'Terry', 'Graham'])"
      ]
     },
     "execution_count": 17,
     "metadata": {},
     "output_type": "execute_result"
    }
   ],
   "source": [
    "# Remaining queue in order of arrival\n",
    "queue_2"
   ]
  },
  {
   "cell_type": "code",
   "execution_count": 18,
   "metadata": {},
   "outputs": [
    {
     "data": {
      "text/plain": [
       "3"
      ]
     },
     "execution_count": 18,
     "metadata": {},
     "output_type": "execute_result"
    }
   ],
   "source": [
    "len(queue_2)"
   ]
  },
  {
   "cell_type": "code",
   "execution_count": 19,
   "metadata": {},
   "outputs": [
    {
     "data": {
      "text/plain": [
       "collections.deque"
      ]
     },
     "execution_count": 19,
     "metadata": {},
     "output_type": "execute_result"
    }
   ],
   "source": [
    "type(queue_2)"
   ]
  }
 ],
 "metadata": {
  "kernelspec": {
   "display_name": "Python 3",
   "language": "python",
   "name": "python3"
  },
  "language_info": {
   "codemirror_mode": {
    "name": "ipython",
    "version": 3
   },
   "file_extension": ".py",
   "mimetype": "text/x-python",
   "name": "python",
   "nbconvert_exporter": "python",
   "pygments_lexer": "ipython3",
   "version": "3.7.6"
  }
 },
 "nbformat": 4,
 "nbformat_minor": 4
}
