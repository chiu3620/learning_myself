{
 "cells": [
  {
   "cell_type": "markdown",
   "metadata": {},
   "source": [
    "## Factorial"
   ]
  },
  {
   "cell_type": "code",
   "execution_count": 7,
   "metadata": {},
   "outputs": [],
   "source": [
    "def factorial_RE(num):\n",
    "    factor = 1;\n",
    "    if num < 0:\n",
    "        print(\"Sorry, factorial does not exist for negative numbers\")\n",
    "        return \n",
    "    elif num == 0:\n",
    "        return 1\n",
    "    else:\n",
    "        return num*factorial_RE(num-1)"
   ]
  },
  {
   "cell_type": "code",
   "execution_count": 8,
   "metadata": {},
   "outputs": [
    {
     "name": "stdout",
     "output_type": "stream",
     "text": [
      "6\n",
      "Sorry, factorial does not exist for negative numbers\n",
      "None\n"
     ]
    }
   ],
   "source": [
    "if __name__ == '__main__':\n",
    "    print(factorial_RE(3))\n",
    "    print(factorial_RE(-13))"
   ]
  },
  {
   "cell_type": "code",
   "execution_count": 3,
   "metadata": {},
   "outputs": [],
   "source": [
    "def factorial_DP(num):\n",
    "    factor = 1;\n",
    "    if num < 0:\n",
    "        print(\"Sorry, factorial does not exist for negative numbers\")\n",
    "        return\n",
    "    else:\n",
    "        for i in range(num):\n",
    "            factor = factor*num;\n",
    "            num = num-1;\n",
    "        return factor"
   ]
  },
  {
   "cell_type": "code",
   "execution_count": 4,
   "metadata": {},
   "outputs": [
    {
     "name": "stdout",
     "output_type": "stream",
     "text": [
      "6\n"
     ]
    }
   ],
   "source": [
    "if __name__ == '__main__':\n",
    "    print(factorial_DP(3))"
   ]
  },
  {
   "cell_type": "markdown",
   "metadata": {},
   "source": [
    "## Fibonacci"
   ]
  },
  {
   "cell_type": "code",
   "execution_count": 1,
   "metadata": {},
   "outputs": [],
   "source": [
    "def fibonacci_RE(num):\n",
    "    if num < 0:\n",
    "        print(\"Sorry, fibonacci does not exist for negative numbers\")\n",
    "        return\n",
    "    elif num == 0:\n",
    "        return 0\n",
    "    elif num == 1:\n",
    "        return 1\n",
    "    else:\n",
    "        return fibonacci_RE(num-1) + fibonacci_RE(num-2)"
   ]
  },
  {
   "cell_type": "code",
   "execution_count": 2,
   "metadata": {},
   "outputs": [
    {
     "name": "stdout",
     "output_type": "stream",
     "text": [
      "0 th : 0\n",
      "1 th : 1\n",
      "2 th : 1\n",
      "3 th : 2\n",
      "4 th : 3\n",
      "5 th : 5\n",
      "6 th : 8\n",
      "7 th : 13\n",
      "8 th : 21\n",
      "9 th : 34\n"
     ]
    }
   ],
   "source": [
    "if __name__ == '__main__':\n",
    "    for i in range(10):\n",
    "        print(i,'th', ':', fibonacci_RE(i))"
   ]
  },
  {
   "cell_type": "code",
   "execution_count": 7,
   "metadata": {},
   "outputs": [],
   "source": [
    "def fibonacci_DP(num):\n",
    "    fib = [0,1];\n",
    "    if num < 0:\n",
    "        print(\"Sorry, fibonacci does not exist for negative numbers\")\n",
    "        return\n",
    "    elif num == 0:\n",
    "        return fib[0]\n",
    "    elif num == 1:\n",
    "        return fib[1]\n",
    "    else:\n",
    "        for i in range(2 , num+1):\n",
    "            fib.append( fibonacci_DP(i-1) + fibonacci_DP(i-2) )\n",
    "        return fib[num]"
   ]
  },
  {
   "cell_type": "code",
   "execution_count": 8,
   "metadata": {},
   "outputs": [
    {
     "name": "stdout",
     "output_type": "stream",
     "text": [
      "0 th : 0\n",
      "1 th : 1\n",
      "2 th : 1\n",
      "3 th : 2\n",
      "4 th : 3\n",
      "5 th : 5\n",
      "6 th : 8\n",
      "7 th : 13\n",
      "8 th : 21\n",
      "9 th : 34\n"
     ]
    }
   ],
   "source": [
    "if __name__ == '__main__':\n",
    "    for i in range(10):\n",
    "        print(i,'th', ':', fibonacci_DP(i))"
   ]
  },
  {
   "cell_type": "markdown",
   "metadata": {},
   "source": [
    "## Binnomial Coefficient"
   ]
  },
  {
   "cell_type": "code",
   "execution_count": 11,
   "metadata": {},
   "outputs": [],
   "source": [
    "def Bin(n,m):\n",
    "    if m<0 or n <0 or m>n :\n",
    "        print(\"Sorry, Binnomial Coefficient does not exist\")\n",
    "        return \n",
    "    elif m==0 or n==m:\n",
    "        return 1\n",
    "    else:\n",
    "        return Bin(n-1,m) + Bin(n-1,m-1)"
   ]
  },
  {
   "cell_type": "code",
   "execution_count": 12,
   "metadata": {},
   "outputs": [
    {
     "name": "stdout",
     "output_type": "stream",
     "text": [
      "Sorry, Binnomial Coefficient does not exist\n",
      "None\n"
     ]
    }
   ],
   "source": [
    "if __name__ == '__main__':\n",
    "    print(Bin(1,2))"
   ]
  },
  {
   "cell_type": "markdown",
   "metadata": {},
   "source": [
    "## GCD"
   ]
  },
  {
   "cell_type": "code",
   "execution_count": 13,
   "metadata": {},
   "outputs": [],
   "source": [
    "def GCD(A, B):\n",
    "    if A==0 or B==0 :\n",
    "        return print(\"Sorry, GCD does not exist\")\n",
    "    elif A%B == 0:\n",
    "        return B\n",
    "    else:\n",
    "        return GCD(B, A%B)"
   ]
  },
  {
   "cell_type": "code",
   "execution_count": 14,
   "metadata": {},
   "outputs": [
    {
     "name": "stdout",
     "output_type": "stream",
     "text": [
      "1\n",
      "1\n",
      "Sorry, GCD does not exist\n",
      "None\n",
      "3\n",
      "4\n"
     ]
    }
   ],
   "source": [
    "if __name__ == '__main__':\n",
    "    print(GCD(15,2))\n",
    "    print(GCD(2,15))\n",
    "    print(GCD(0,2))\n",
    "    print(GCD(15,3))\n",
    "    print(GCD(36,32))"
   ]
  },
  {
   "cell_type": "markdown",
   "metadata": {},
   "source": [
    "## Towers of Hanoi"
   ]
  },
  {
   "cell_type": "code",
   "execution_count": 15,
   "metadata": {},
   "outputs": [],
   "source": [
    "def HANOI(n, A, B, C) :\n",
    "    if n==1 :\n",
    "        return print(\"Move sheet from \", A ,\" to \", C)\n",
    "    else:\n",
    "        return HANOI(n-1, A, C, B), HANOI(1, A, B, C), HANOI(n-1, B, A, C) "
   ]
  },
  {
   "cell_type": "code",
   "execution_count": 16,
   "metadata": {},
   "outputs": [
    {
     "name": "stdout",
     "output_type": "stream",
     "text": [
      "Move sheet from  A  to  C\n",
      "Move sheet from  A  to  B\n",
      "Move sheet from  C  to  B\n",
      "Move sheet from  A  to  C\n",
      "Move sheet from  B  to  A\n",
      "Move sheet from  B  to  C\n",
      "Move sheet from  A  to  C\n"
     ]
    }
   ],
   "source": [
    "if __name__ == '__main__':\n",
    "   HANOI(3, 'A', 'B', 'C')"
   ]
  },
  {
   "cell_type": "markdown",
   "metadata": {},
   "source": [
    "# 八皇后\n",
    "ref. https://github.com/careercup/CtCI-6th-Edition-Python/blob/master/chapter_08/p12_eight_queens.py"
   ]
  },
  {
   "cell_type": "markdown",
   "metadata": {},
   "source": [
    "### copy\n",
    "ref. https://ithelp.ithome.com.tw/articles/10221255"
   ]
  },
  {
   "cell_type": "code",
   "execution_count": 17,
   "metadata": {},
   "outputs": [],
   "source": [
    "import copy\n",
    "import unittest"
   ]
  },
  {
   "cell_type": "code",
   "execution_count": 18,
   "metadata": {},
   "outputs": [
    {
     "name": "stdout",
     "output_type": "stream",
     "text": [
      "139879593520016\n",
      "139879593520016\n"
     ]
    }
   ],
   "source": [
    "a1 = [[\".\" for _ in range(8)] for _ in range(8)]\n",
    "b = a1\n",
    "print(id(a1))\n",
    "print(id(b))"
   ]
  },
  {
   "cell_type": "code",
   "execution_count": 19,
   "metadata": {},
   "outputs": [
    {
     "name": "stdout",
     "output_type": "stream",
     "text": [
      "139879593445248\n",
      "139879584586800\n"
     ]
    }
   ],
   "source": [
    "a2 = [[\".\" for _ in range(8)] for _ in range(8)]\n",
    "b2 = a2.copy()\n",
    "print(id(a2))\n",
    "print(id(b2))"
   ]
  },
  {
   "cell_type": "code",
   "execution_count": 20,
   "metadata": {},
   "outputs": [
    {
     "name": "stdout",
     "output_type": "stream",
     "text": [
      "139879593472160\n",
      "139879593472080\n"
     ]
    }
   ],
   "source": [
    "a3 = [[\".\" for _ in range(8)] for _ in range(8)]\n",
    "b3 = copy.deepcopy(a3)\n",
    "print(id(a3))\n",
    "print(id(b3))"
   ]
  },
  {
   "cell_type": "code",
   "execution_count": 21,
   "metadata": {},
   "outputs": [],
   "source": [
    "import copy"
   ]
  },
  {
   "cell_type": "code",
   "execution_count": 22,
   "metadata": {},
   "outputs": [],
   "source": [
    "def position_is_valid(row, col, board):\n",
    "    if row == 0:\n",
    "        return True\n",
    "    \n",
    "    # Check if there are any queens in the rows above this position\n",
    "        # Because we use list to save board, each row jush exists one queen\n",
    "        # Thus we don't need to check if there are any queens in the rows\n",
    "\n",
    "    # Check if there are any queens in the cols along this position\n",
    "    # This is a sanity check since our main function shouldn't add more than\n",
    "    # one queen at any row\n",
    "    for cur_queen_row in range(row):\n",
    "        # board[cur_queen_row] means the current column of queen\n",
    "        if col == board[cur_queen_row]:\n",
    "            return False\n",
    "\n",
    "    # Check if there is a queen in the upper left diagonal\n",
    "    for cur_queen_row in range(row):\n",
    "        slope = ( cur_queen_row-row )/( board[cur_queen_row]-col )\n",
    "        if slope==1 or slope==-1:\n",
    "            return False\n",
    "    return True"
   ]
  },
  {
   "cell_type": "code",
   "execution_count": 23,
   "metadata": {},
   "outputs": [],
   "source": [
    "def queens(n=8):\n",
    "    def queens_finder(row, board):\n",
    "        if row == n:\n",
    "            arrangements.append( copy.deepcopy(board) )\n",
    "        else:\n",
    "            for col in range(n):\n",
    "                if position_is_valid(row, col, board):\n",
    "                    board.append(col)\n",
    "                    queens_finder( row + 1, copy.deepcopy(board))\n",
    "                    board.pop()\n",
    "        return arrangements\n",
    "\n",
    "    arrangements = []\n",
    "    queens_finder(0, [])\n",
    "    return arrangements"
   ]
  },
  {
   "cell_type": "code",
   "execution_count": 24,
   "metadata": {},
   "outputs": [
    {
     "name": "stdout",
     "output_type": "stream",
     "text": [
      "92\n",
      "[0, 5, 7, 2, 6, 3, 1, 4]\n"
     ]
    }
   ],
   "source": [
    "test = queens(8)\n",
    "print(len(test))\n",
    "print(test[1])"
   ]
  },
  {
   "cell_type": "code",
   "execution_count": 25,
   "metadata": {},
   "outputs": [
    {
     "name": "stdout",
     "output_type": "stream",
     "text": [
      "14200\n"
     ]
    }
   ],
   "source": [
    "test = queens(12)\n",
    "print(len(test))"
   ]
  },
  {
   "cell_type": "code",
   "execution_count": null,
   "metadata": {},
   "outputs": [],
   "source": []
  },
  {
   "cell_type": "markdown",
   "metadata": {},
   "source": [
    "## 上樓梯幾種方法"
   ]
  },
  {
   "cell_type": "code",
   "execution_count": 26,
   "metadata": {},
   "outputs": [],
   "source": [
    "def stair_RE(n):\n",
    "    if n < 0:\n",
    "        return 0\n",
    "    elif n == 0:\n",
    "        return 1\n",
    "    else:\n",
    "        return stair_RE(n-1) + stair_RE(n-2)"
   ]
  },
  {
   "cell_type": "code",
   "execution_count": 27,
   "metadata": {},
   "outputs": [
    {
     "data": {
      "text/plain": [
       "10946"
      ]
     },
     "execution_count": 27,
     "metadata": {},
     "output_type": "execute_result"
    }
   ],
   "source": [
    "stair_RE(20)"
   ]
  },
  {
   "cell_type": "code",
   "execution_count": 28,
   "metadata": {},
   "outputs": [],
   "source": [
    "def stair_DP(n):\n",
    "    num = [0]*(n+1);\n",
    "    for i in range(n+1):\n",
    "        if i == 0:\n",
    "            num[0] = 1;\n",
    "        elif i == 1:\n",
    "            num[1] = 1;\n",
    "        else:\n",
    "            num[i] = num[i-1] + num[i-2]\n",
    "    return num[-1]"
   ]
  },
  {
   "cell_type": "code",
   "execution_count": 29,
   "metadata": {},
   "outputs": [
    {
     "data": {
      "text/plain": [
       "701408733"
      ]
     },
     "execution_count": 29,
     "metadata": {},
     "output_type": "execute_result"
    }
   ],
   "source": [
    "stair_DP(43)"
   ]
  }
 ],
 "metadata": {
  "kernelspec": {
   "display_name": "Python 3",
   "language": "python",
   "name": "python3"
  },
  "language_info": {
   "codemirror_mode": {
    "name": "ipython",
    "version": 3
   },
   "file_extension": ".py",
   "mimetype": "text/x-python",
   "name": "python",
   "nbconvert_exporter": "python",
   "pygments_lexer": "ipython3",
   "version": "3.7.6"
  }
 },
 "nbformat": 4,
 "nbformat_minor": 4
}
