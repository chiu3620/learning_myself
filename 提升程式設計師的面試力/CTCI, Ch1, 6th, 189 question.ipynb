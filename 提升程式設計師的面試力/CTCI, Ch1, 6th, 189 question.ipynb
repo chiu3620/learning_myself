{
 "cells": [
  {
   "cell_type": "markdown",
   "metadata": {},
   "source": [
    "# Chapter 1"
   ]
  },
  {
   "cell_type": "markdown",
   "metadata": {},
   "source": [
    "## 1.1\n",
    "Is Unique\n",
    "\n",
    "給一組字串，判斷是否有重複出現的字元"
   ]
  },
  {
   "cell_type": "code",
   "execution_count": 1,
   "metadata": {},
   "outputs": [],
   "source": [
    "# Suppose it's ASCII, not Unicode\n",
    "def is_Unique(string):\n",
    "    if type(string) != str:\n",
    "        print(\"Error! The input data type needs to be string.\")\n",
    "        return\n",
    "    \n",
    "    if len(string) > 128:\n",
    "        print(\"It's not unique.\")\n",
    "        return False\n",
    "    char_set = [0]*128\n",
    "    for char in string:\n",
    "        order = ord(str(char))\n",
    "        if char_set[order] > 0:\n",
    "            print(\"It's not unique.\")\n",
    "            return False\n",
    "        else:\n",
    "            char_set[order] = char_set[order] + 1\n",
    "        return True"
   ]
  },
  {
   "cell_type": "code",
   "execution_count": 2,
   "metadata": {},
   "outputs": [
    {
     "data": {
      "text/plain": [
       "True"
      ]
     },
     "execution_count": 2,
     "metadata": {},
     "output_type": "execute_result"
    }
   ],
   "source": [
    "test = \"abcdefg\"\n",
    "is_Unique(test)"
   ]
  },
  {
   "cell_type": "code",
   "execution_count": 3,
   "metadata": {},
   "outputs": [
    {
     "name": "stdout",
     "output_type": "stream",
     "text": [
      "It's not unique.\n"
     ]
    },
    {
     "data": {
      "text/plain": [
       "False"
      ]
     },
     "execution_count": 3,
     "metadata": {},
     "output_type": "execute_result"
    }
   ],
   "source": [
    "test = \"abcdefgabcdefgabcdefgabcdefgabcdefgabcdefgabcdefgabcdefgabcdefgabcdefgabcdefgabcdefgabcdefgabcdefgabcdefgabcdefgabcdefgabcdefgabcdefgabcdefgabcdefgabcdefgabcdefgabcdefgabcdefgabcdefgabcdefgabcdefgabcdefgabcdefgabcdefgabcdefgabcdefgabcdefgabcdefgabcdefg\"\n",
    "is_Unique(test)"
   ]
  },
  {
   "cell_type": "code",
   "execution_count": 4,
   "metadata": {},
   "outputs": [
    {
     "name": "stdout",
     "output_type": "stream",
     "text": [
      "It's not unique.\n"
     ]
    },
    {
     "data": {
      "text/plain": [
       "False"
      ]
     },
     "execution_count": 4,
     "metadata": {},
     "output_type": "execute_result"
    }
   ],
   "source": [
    "\"abcdeffg\"\n",
    "is_Unique(test)"
   ]
  },
  {
   "cell_type": "markdown",
   "metadata": {},
   "source": [
    "## 1.2\n",
    "Check Permutation\n",
    "\n",
    "給兩組字串，判段其中一組字串是否是另一組的Permutation"
   ]
  },
  {
   "cell_type": "code",
   "execution_count": 5,
   "metadata": {},
   "outputs": [],
   "source": [
    "# Suppose it's ASCII, not Unicode\n",
    "def Check_Permutation(string1, string2):\n",
    "    char_set = [0]*128\n",
    "    for char in string1:\n",
    "        order = ord(str(char))\n",
    "        char_set[order] = char_set[order] + 1\n",
    "    for char in string2:\n",
    "        order = ord(str(char))\n",
    "        char_set[order] = char_set[order] - 1\n",
    "        if char_set[order] < 0:\n",
    "            print(\"The two srings aren't from the same permutation.\")\n",
    "            return False\n",
    "    print(\"The two srings are from the same permutation.\")\n",
    "    return True"
   ]
  },
  {
   "cell_type": "code",
   "execution_count": 7,
   "metadata": {},
   "outputs": [
    {
     "name": "stdout",
     "output_type": "stream",
     "text": [
      "The two srings aren't from the same permutation.\n"
     ]
    },
    {
     "data": {
      "text/plain": [
       "False"
      ]
     },
     "execution_count": 7,
     "metadata": {},
     "output_type": "execute_result"
    }
   ],
   "source": [
    "test1 = \"abc\"\n",
    "test2 = \"def\"\n",
    "Check_Permutation(test1, test2)"
   ]
  },
  {
   "cell_type": "code",
   "execution_count": 8,
   "metadata": {},
   "outputs": [
    {
     "name": "stdout",
     "output_type": "stream",
     "text": [
      "The two srings are from the same permutation.\n"
     ]
    },
    {
     "data": {
      "text/plain": [
       "True"
      ]
     },
     "execution_count": 8,
     "metadata": {},
     "output_type": "execute_result"
    }
   ],
   "source": [
    "test1 = \"abc\"\n",
    "test2 = \"cba\"\n",
    "Check_Permutation(test1, test2)"
   ]
  },
  {
   "cell_type": "markdown",
   "metadata": {},
   "source": [
    "## 1.3\n",
    "URLify\n",
    "\n",
    "給一組字串，將字與字之間的空白處變成%20"
   ]
  },
  {
   "cell_type": "code",
   "execution_count": 9,
   "metadata": {},
   "outputs": [],
   "source": [
    "def URLify_1_3(string):\n",
    "    if type(string) != str:\n",
    "        print(\"Error! The input data type needs to be string.\")\n",
    "        return\n",
    "    start = 0;\n",
    "    length = len(string);\n",
    "    for i in reversed(range(length)):\n",
    "        if test[i] == \" \":\n",
    "            length = length - 1\n",
    "        else:\n",
    "            break\n",
    "    for i in range(length):\n",
    "        if test[i] == \" \":\n",
    "            start = start + 1\n",
    "        else:\n",
    "            break\n",
    "    \n",
    "    output = \"\";\n",
    "    for i in range(start,length):\n",
    "        if string[i] == \" \":\n",
    "            output = output + '%20';\n",
    "        else:\n",
    "            output = output + string[i];\n",
    "    return output"
   ]
  },
  {
   "cell_type": "code",
   "execution_count": 15,
   "metadata": {
    "scrolled": true
   },
   "outputs": [
    {
     "name": "stdout",
     "output_type": "stream",
     "text": [
      "Mr%20John%20Smith\n"
     ]
    }
   ],
   "source": [
    "test = '    Mr John Smith    '\n",
    "print(URLify_1_3(test))"
   ]
  },
  {
   "cell_type": "markdown",
   "metadata": {},
   "source": [
    "## 1.4\n",
    "Palindrome Permutation\n",
    "\n",
    "判斷是否是迴文(不看符號)"
   ]
  },
  {
   "cell_type": "code",
   "execution_count": null,
   "metadata": {},
   "outputs": [],
   "source": [
    "def isPalindrome(string):\n",
    "    if type(string) != str:\n",
    "        print(\"Error! The input data type needs to be string.\")\n",
    "        return\n",
    "    temp = string.lower()\n",
    "    clear = \"\"\n",
    "    start_order = ord(\"a\")\n",
    "    end_order = ord(\"z\")\n",
    "    for char in temp:\n",
    "        order = ord(str(char))\n",
    "        if order >= start_order and order <= end_order:\n",
    "            clear = clear + char\n",
    "    length = len(clear)\n",
    "    for i in range( len(clear)//2 ):\n",
    "        # Beacuse range start from 0, so if we want to count from the last, we neet to start from \"length-(i+1)\".\n",
    "        if clear[i] != clear[length - (i+1)]:\n",
    "            print(\"It's not a Palindrome\")\n",
    "            return False\n",
    "    print(\"It's a Palindrome\")\n",
    "    return True"
   ]
  },
  {
   "cell_type": "code",
   "execution_count": 2,
   "metadata": {},
   "outputs": [
    {
     "name": "stdout",
     "output_type": "stream",
     "text": [
      "It's not a Palindrome\n"
     ]
    },
    {
     "data": {
      "text/plain": [
       "False"
      ]
     },
     "execution_count": 2,
     "metadata": {},
     "output_type": "execute_result"
    }
   ],
   "source": [
    "isPalindrome(\"abdkhsirloi22222klj..f;;;;\")"
   ]
  },
  {
   "cell_type": "code",
   "execution_count": 3,
   "metadata": {},
   "outputs": [
    {
     "name": "stdout",
     "output_type": "stream",
     "text": [
      "It's a Palindrome\n"
     ]
    },
    {
     "data": {
      "text/plain": [
       "True"
      ]
     },
     "execution_count": 3,
     "metadata": {},
     "output_type": "execute_result"
    }
   ],
   "source": [
    "isPalindrome(\"taco cat\")"
   ]
  },
  {
   "cell_type": "code",
   "execution_count": 4,
   "metadata": {},
   "outputs": [
    {
     "name": "stdout",
     "output_type": "stream",
     "text": [
      "It's a Palindrome\n"
     ]
    }
   ],
   "source": [
    "isPalindrome(\"tac;o;;;///$$$$ cat\")"
   ]
  },
  {
   "cell_type": "markdown",
   "metadata": {},
   "source": [
    "## 1.5\n",
    "One Away\n",
    "\n",
    "判斷兩組字串是否是差一個運算(刪除、插入、置換)"
   ]
  },
  {
   "cell_type": "code",
   "execution_count": 16,
   "metadata": {},
   "outputs": [],
   "source": [
    "def one_away_replace(string1, string2):\n",
    "    diff_count = 0;\n",
    "    for i in range( len(string1) ):\n",
    "        if string1[i] != string2[i]:\n",
    "            diff_count = diff_count + 1\n",
    "        if diff_count > 1:\n",
    "            print(\"The two string aren't one edit away\")\n",
    "            return False\n",
    "    print(\"The two string are one edit away\")\n",
    "    return True    "
   ]
  },
  {
   "cell_type": "code",
   "execution_count": 18,
   "metadata": {},
   "outputs": [],
   "source": [
    "def one_away_delete(string1, string2):\n",
    "    # the length of string1 is longer then the length of string2\n",
    "    i = 0;\n",
    "    j = 0;\n",
    "    edited = 0;\n",
    "    while i < len(string1) and j < len(string2):\n",
    "        if string1[i] != string2[j]:\n",
    "            if edited:\n",
    "                print(\"The two string aren't one edit away\")\n",
    "                return False\n",
    "            else:\n",
    "                edited = True;\n",
    "                i = i + 1\n",
    "        else:\n",
    "            i = i + 1\n",
    "            j = j + 1\n",
    "    print(\"The two string are one edit away\")\n",
    "    return True"
   ]
  },
  {
   "cell_type": "code",
   "execution_count": 20,
   "metadata": {},
   "outputs": [],
   "source": [
    "def one_away_insert(string1, string2):\n",
    "    return one_away_delete(string2, string1)"
   ]
  },
  {
   "cell_type": "code",
   "execution_count": 22,
   "metadata": {},
   "outputs": [],
   "source": [
    "def one_away(string1, string2):\n",
    "    if len(string1) == len(string2):\n",
    "        return one_away_replace(string1, string2)\n",
    "    elif len(string1)+1 == len(string2):\n",
    "        return one_away_delete(string1, string2)\n",
    "    elif len(string1)-1 == len(string2):\n",
    "        return one_away_insert(string1, string2)\n",
    "    else:\n",
    "        print(\"The two string aren't one edit away\")\n",
    "        return False"
   ]
  },
  {
   "cell_type": "code",
   "execution_count": 23,
   "metadata": {},
   "outputs": [
    {
     "name": "stdout",
     "output_type": "stream",
     "text": [
      "The two string are one edit away\n",
      "True\n",
      "The two string aren't one edit away\n",
      "False\n",
      "The two string are one edit away\n",
      "True\n",
      "The two string aren't one edit away\n",
      "False\n",
      "The two string aren't one edit away\n",
      "False\n"
     ]
    }
   ],
   "source": [
    "test1 = \"pale\"\n",
    "test2 = \"bale\"\n",
    "print(one_away(test1, test2))\n",
    "test1 = \"ple\"\n",
    "test2 = \"pale\"\n",
    "print(one_away(test1, test2))\n",
    "test1 = \"pales\"\n",
    "test2 = \"pale\"\n",
    "print(one_away(test1, test2))\n",
    "test1 = \"pale\"\n",
    "test2 = \"bake\"\n",
    "print(one_away(test1, test2))\n",
    "test1 = \"paleee\"\n",
    "test2 = \"bake\"\n",
    "print(one_away(test1, test2))"
   ]
  },
  {
   "cell_type": "markdown",
   "metadata": {},
   "source": [
    "## 1.6\n",
    "String Compression"
   ]
  },
  {
   "cell_type": "code",
   "execution_count": 24,
   "metadata": {},
   "outputs": [],
   "source": [
    "def compress_string(string):\n",
    "    compressed = \"\";\n",
    "    length = len(string)\n",
    "    count = 0;\n",
    "    for i in range(length):\n",
    "        count = count + 1\n",
    "        # except the last char\n",
    "        if i+1 != length:\n",
    "            if string[i] != string[i+1]:\n",
    "                compressed = compressed + string[i] + str(count)\n",
    "                count = 0\n",
    "        # for the last char\n",
    "        else:\n",
    "            compressed = compressed + string[i] + str(count)\n",
    "            \n",
    "    if len(compressed) < length:\n",
    "        return compressed\n",
    "    else:\n",
    "        return string"
   ]
  },
  {
   "cell_type": "code",
   "execution_count": 25,
   "metadata": {},
   "outputs": [
    {
     "data": {
      "text/plain": [
       "'aab'"
      ]
     },
     "execution_count": 25,
     "metadata": {},
     "output_type": "execute_result"
    }
   ],
   "source": [
    "test = \"aab\"\n",
    "compress_string(test)"
   ]
  },
  {
   "cell_type": "code",
   "execution_count": 26,
   "metadata": {},
   "outputs": [
    {
     "data": {
      "text/plain": [
       "'a2b1c5a3'"
      ]
     },
     "execution_count": 26,
     "metadata": {},
     "output_type": "execute_result"
    }
   ],
   "source": [
    "test = \"aabcccccaaa\"\n",
    "compress_string(test)"
   ]
  },
  {
   "cell_type": "markdown",
   "metadata": {},
   "source": [
    "## 1.7\n",
    "Rotate Matrix"
   ]
  },
  {
   "cell_type": "code",
   "execution_count": 27,
   "metadata": {},
   "outputs": [],
   "source": [
    "def rotated(original):\n",
    "    # original[::-1] reverse sort of original\n",
    "    # zip(*) take the ith element of each row\n",
    "#     list_of_tuples = zip(*original[::-1])\n",
    "    list_of_tuples = zip(*reversed(original))\n",
    "    return [list(elem) for elem in list_of_tuples]\n",
    "    # return map(list, list_of_tuples)"
   ]
  },
  {
   "cell_type": "code",
   "execution_count": 28,
   "metadata": {},
   "outputs": [
    {
     "name": "stdout",
     "output_type": "stream",
     "text": [
      "[7, 4, 1]\n",
      "[8, 5, 2]\n",
      "[9, 6, 3]\n"
     ]
    }
   ],
   "source": [
    "original = [[1, 2, 3],\n",
    "            [4, 5, 6],\n",
    "            [7, 8, 9]]\n",
    "for ele in rotated(original):\n",
    "    print(ele)"
   ]
  },
  {
   "cell_type": "code",
   "execution_count": 29,
   "metadata": {},
   "outputs": [
    {
     "name": "stdout",
     "output_type": "stream",
     "text": [
      "[13, 9, 5, 1]\n",
      "[14, 10, 6, 2]\n",
      "[15, 11, 7, 3]\n",
      "[16, 12, 8, 4]\n"
     ]
    }
   ],
   "source": [
    "original = [[1, 2, 3, 4],\n",
    "            [5, 6, 7, 8],\n",
    "            [9, 10, 11, 12],\n",
    "            [13, 14, 15, 16]]\n",
    "for ele in rotated(original):\n",
    "    print(ele)"
   ]
  },
  {
   "cell_type": "code",
   "execution_count": 30,
   "metadata": {},
   "outputs": [
    {
     "name": "stdout",
     "output_type": "stream",
     "text": [
      "[21, 16, 11, 6, 1]\n",
      "[22, 17, 12, 7, 2]\n",
      "[23, 18, 13, 8, 3]\n",
      "[24, 19, 14, 9, 4]\n",
      "[25, 20, 15, 10, 5]\n"
     ]
    }
   ],
   "source": [
    "original = [[1, 2, 3, 4, 5],\n",
    "            [6, 7, 8, 9, 10],\n",
    "            [11, 12, 13, 14, 15],\n",
    "            [16, 17, 18, 19, 20],\n",
    "            [21, 22, 23, 24, 25]]\n",
    "for ele in rotated(original):\n",
    "    print(ele)"
   ]
  },
  {
   "cell_type": "markdown",
   "metadata": {},
   "source": [
    "## 1.8\n",
    "zero matrix"
   ]
  },
  {
   "cell_type": "code",
   "execution_count": 31,
   "metadata": {},
   "outputs": [],
   "source": [
    "def zero_matrix(matrix):\n",
    "    m = len(matrix)\n",
    "    n = len(matrix[0])\n",
    "    rows = set()\n",
    "    cols = set()\n",
    "    \n",
    "    for x in range(m):\n",
    "        for y in range(n):\n",
    "            if matrix[x][y] == 0:\n",
    "                rows.add(x)\n",
    "                cols.add(y)\n",
    "\n",
    "    for x in range(m):\n",
    "        for y in range(n):\n",
    "            if (x in rows) or (y in cols):\n",
    "                matrix[x][y] = 0\n",
    "    return matrix"
   ]
  },
  {
   "cell_type": "code",
   "execution_count": 32,
   "metadata": {},
   "outputs": [
    {
     "data": {
      "text/plain": [
       "True"
      ]
     },
     "execution_count": 32,
     "metadata": {},
     "output_type": "execute_result"
    }
   ],
   "source": [
    "test = [\n",
    " [1, 2, 3, 4, 0],\n",
    " [6, 0, 8, 9, 10],\n",
    " [11, 12, 13, 14, 15],\n",
    " [16, 0, 18, 19, 20],\n",
    " [21, 22, 23, 24, 25]]\n",
    "ans = [\n",
    " [0, 0, 0, 0, 0],\n",
    " [0, 0, 0, 0, 0],\n",
    " [11, 0, 13, 14, 0],\n",
    " [0, 0, 0, 0, 0],\n",
    " [21, 0, 23, 24, 0]]\n",
    "zero_matrix(test) == ans"
   ]
  },
  {
   "cell_type": "markdown",
   "metadata": {},
   "source": [
    "## 1.9\n",
    "string rotation"
   ]
  },
  {
   "cell_type": "code",
   "execution_count": 34,
   "metadata": {},
   "outputs": [],
   "source": [
    "def string_rotation(s1, s2):\n",
    "    if len(s1) == len(s2) != 0:\n",
    "        return s2 in s1 + s1\n",
    "    return False"
   ]
  },
  {
   "cell_type": "code",
   "execution_count": 35,
   "metadata": {},
   "outputs": [
    {
     "name": "stdout",
     "output_type": "stream",
     "text": [
      "True\n",
      "False\n",
      "False\n"
     ]
    }
   ],
   "source": [
    "test1 = \"waterbottle\"\n",
    "test2 = \"erbottlewat\"\n",
    "print(string_rotation(test1, test2))\n",
    "test1 = \"foo\"\n",
    "test2 = \"bar\"\n",
    "print(string_rotation(test1, test2))\n",
    "test1 = \"foo\"\n",
    "test2 = \"foofoo\"\n",
    "print(string_rotation(test1, test2))"
   ]
  }
 ],
 "metadata": {
  "kernelspec": {
   "display_name": "Python 3",
   "language": "python",
   "name": "python3"
  },
  "language_info": {
   "codemirror_mode": {
    "name": "ipython",
    "version": 3
   },
   "file_extension": ".py",
   "mimetype": "text/x-python",
   "name": "python",
   "nbconvert_exporter": "python",
   "pygments_lexer": "ipython3",
   "version": "3.7.6"
  }
 },
 "nbformat": 4,
 "nbformat_minor": 4
}
