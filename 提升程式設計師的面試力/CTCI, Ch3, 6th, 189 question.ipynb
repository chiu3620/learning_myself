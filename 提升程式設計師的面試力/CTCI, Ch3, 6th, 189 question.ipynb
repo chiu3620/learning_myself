{
 "cells": [
  {
   "cell_type": "markdown",
   "metadata": {},
   "source": [
    "# Chapter 3"
   ]
  },
  {
   "cell_type": "markdown",
   "metadata": {},
   "source": [
    "## 3.1\n",
    "Three in One"
   ]
  },
  {
   "cell_type": "code",
   "execution_count": 1,
   "metadata": {},
   "outputs": [],
   "source": [
    "class Three_in_One:\n",
    "    def __init__(self, stack_size, number_of_stacks):\n",
    "        # how many stacks in this array\n",
    "        self.number_of_stacks = number_of_stacks\n",
    "        # creat array by list\n",
    "        self.array = [0]*(stack_size*number_of_stacks)\n",
    "        # record how much things we have saved in each stacks\n",
    "        self.save_num = [0]*stack_size\n",
    "        # how much we can save in each stacks\n",
    "        self.stack_size = stack_size\n",
    "    \n",
    "    def push(self, val, stack_num):\n",
    "        \"\"\"Please input which value you want to save and which stack you want to save in.\"\"\"\n",
    "        save_num = self.save_num[stack_num]\n",
    "        # check whether stack num is valid\n",
    "        if stack_num >= self.number_of_stacks:\n",
    "            print(\"Warning! stack num is out of range\")\n",
    "            return\n",
    "        # check whether stack is full\n",
    "        if save_num == self.stack_size:\n",
    "            print(\"Warning! stack is full\")\n",
    "            return\n",
    "        index = (stack_num- 1)*self.stack_size \n",
    "        self.array[ index + save_num ] = val\n",
    "        self.save_num[stack_num] = self.save_num[stack_num] + 1\n",
    "        return\n",
    "    \n",
    "    def pop(self, stack_num):\n",
    "        save_num = self.save_num[stack_num]\n",
    "        # check whether stack num is valid\n",
    "        if stack_num >= self.number_of_stacks:\n",
    "            print(\"Warning! stack num is out of range\")\n",
    "            return\n",
    "        # check whether stack is empty\n",
    "        if save_num == 0:\n",
    "            print(\"Warning! stack is empty\")\n",
    "            return\n",
    "        index = (stack_num- 1)*self.stack_size\n",
    "        self.array[ index + (save_num-1) ] = 0\n",
    "        self.save_num[stack_num] = self.save_num[stack_num] - 1\n",
    "        return\n",
    "    \n",
    "    def peek(self, stack_num):\n",
    "        save_num = self.save_num[stack_num]\n",
    "        # check whether stack num is valid\n",
    "        if stack_num >= self.number_of_stacks:\n",
    "            print(\"Warning! stack num is out of range\")\n",
    "            return\n",
    "        # check whether stack is full\n",
    "        if save_num == self.stack_size:\n",
    "            print(\"Warning! stack is full\")\n",
    "            return\n",
    "        return\n",
    "    \n",
    "    def is_empty(self, stack_num):\n",
    "        save_num = self.save_num[stack_num]\n",
    "        # check whether stack num is valid\n",
    "        if stack_num >= self.number_of_stacks:\n",
    "            print(\"Warning! stack num is out of range\")\n",
    "            return\n",
    "        # check whether stack is empty\n",
    "        if save_num == 0:\n",
    "            print(\"Warning! stack is empty\")\n",
    "            return\n",
    "        return"
   ]
  },
  {
   "cell_type": "code",
   "execution_count": 2,
   "metadata": {},
   "outputs": [
    {
     "name": "stdout",
     "output_type": "stream",
     "text": [
      "[0, 0, 0, 0, 0, 0, 0, 0, 0]\n"
     ]
    }
   ],
   "source": [
    "stack_size, number_of_stacks = 3, 3\n",
    "test = Three_in_One(stack_size, number_of_stacks)\n",
    "print(test.array)"
   ]
  },
  {
   "cell_type": "code",
   "execution_count": 3,
   "metadata": {},
   "outputs": [
    {
     "name": "stdout",
     "output_type": "stream",
     "text": [
      "[0, 0, 0, 0, 0, 0, 0, 0, 0]\n",
      "[0, 0, 0, 1, 2, 3, 0, 0, 0]\n"
     ]
    }
   ],
   "source": [
    "stack_size, number_of_stacks = 3, 3\n",
    "test = Three_in_One(stack_size, number_of_stacks)\n",
    "print(test.array)\n",
    "for i in range(1,4):\n",
    "    test.push(i,2)\n",
    "print(test.array)"
   ]
  },
  {
   "cell_type": "code",
   "execution_count": 4,
   "metadata": {},
   "outputs": [
    {
     "name": "stdout",
     "output_type": "stream",
     "text": [
      "[0, 0, 0, 0, 0, 0, 0, 0, 0]\n",
      "push 1 [0, 0, 0, 1, 0, 0, 0, 0, 0]\n",
      "push 2 [0, 0, 0, 1, 2, 0, 0, 0, 0]\n",
      "push 3 [0, 0, 0, 1, 2, 3, 0, 0, 0]\n",
      " pop 3 [0, 0, 0, 1, 2, 0, 0, 0, 0]\n",
      " pop 2 [0, 0, 0, 1, 0, 0, 0, 0, 0]\n",
      " pop 1 [0, 0, 0, 0, 0, 0, 0, 0, 0]\n"
     ]
    }
   ],
   "source": [
    "stack_size, number_of_stacks = 3, 3\n",
    "test = Three_in_One(stack_size, number_of_stacks)\n",
    "print(test.array)\n",
    "for i in range(1,4):\n",
    "    test.push(i,2)\n",
    "    print(\"push\",i,test.array)\n",
    "for i in range(3):\n",
    "    test.pop(2)\n",
    "    print(\" pop\",3-i,test.array)"
   ]
  },
  {
   "cell_type": "markdown",
   "metadata": {},
   "source": [
    "## 3.2\n",
    "Stack Min"
   ]
  },
  {
   "cell_type": "code",
   "execution_count": 18,
   "metadata": {},
   "outputs": [],
   "source": [
    "class minstack:\n",
    "    def __init__(self):\n",
    "        self.item = []\n",
    "        self.min = []\n",
    "    \n",
    "    def push(self, val):\n",
    "        self.item.append(val)\n",
    "        if (self.min == []) or ( val <= self.minimun()):\n",
    "            self.min.append(val)\n",
    "        return\n",
    "    \n",
    "    def pop(self):\n",
    "        delete = self.item.pop()\n",
    "        if delete == self.minimun():\n",
    "            self.min.pop()\n",
    "        return delete\n",
    "        \n",
    "    def peek(self):\n",
    "        return self.item[-1]\n",
    "    \n",
    "    def minimun(self):\n",
    "        if self.min != []:\n",
    "            return self.min[-1]\n",
    "        return None"
   ]
  },
  {
   "cell_type": "code",
   "execution_count": 19,
   "metadata": {},
   "outputs": [
    {
     "name": "stdout",
     "output_type": "stream",
     "text": [
      "None\n",
      "[]\n"
     ]
    }
   ],
   "source": [
    "test = minstack()\n",
    "print(test.minimun())\n",
    "print(test.item)"
   ]
  },
  {
   "cell_type": "code",
   "execution_count": 20,
   "metadata": {},
   "outputs": [
    {
     "name": "stdout",
     "output_type": "stream",
     "text": [
      "stack is [5] , min is  5\n",
      "stack is [5, 6] , min is  5\n",
      "stack is [5, 6, 3] , min is  3\n",
      "stack is [5, 6, 3, 7] , min is  3\n",
      "pop 7 stack is [5, 6, 3] , min is  3\n",
      "pop 3 stack is [5, 6] , min is  5\n"
     ]
    }
   ],
   "source": [
    "test = minstack()\n",
    "test_set = [5,6,3,7]\n",
    "for i in test_set:\n",
    "    test.push(i)\n",
    "    print(\"stack is\", test.item, \", min is \", test.minimun())\n",
    "for _ in range(2):\n",
    "    delete = test.pop()\n",
    "    print(\"pop\", delete, \"stack is\", test.item, \", min is \", test.minimun())"
   ]
  },
  {
   "cell_type": "markdown",
   "metadata": {},
   "source": [
    "## 3.3\n",
    "Stack of Plates\n",
    "\n",
    "ref. https://github.com/pnogas/python-code/blob/master/3-3.py"
   ]
  },
  {
   "cell_type": "code",
   "execution_count": 21,
   "metadata": {},
   "outputs": [],
   "source": [
    "class SetOfStacks:\n",
    "    def __init__(self, capacity):\n",
    "        self.stacks = []\n",
    "        if capacity < 1:\n",
    "            raise NameError(\"Can't have stacks of that height\")\n",
    "        else:\n",
    "            self.capacity = capacity\n",
    "\n",
    "    def push(self, item):\n",
    "        if self.stacks == []:\n",
    "            self.stacks.append([item])\n",
    "        else:\n",
    "            if len(self.stacks[-1]) >= self.capacity:\n",
    "                self.stacks.append([item])\n",
    "            else:\n",
    "                self.stacks[-1].append(item)\n",
    "\n",
    "    def pop(self):\n",
    "        if self.stacks == []:\n",
    "            raise NameError(\"can't pop an empty stack\")\n",
    "        else:\n",
    "            popped_data = self.stacks[-1][-1]\n",
    "            if len(self.stacks[-1]) == 1:\n",
    "                del self.stacks[-1]\n",
    "            else:\n",
    "                del self.stacks[-1][-1]\n",
    "            return popped_data\n",
    "\n",
    "    def popAt(self, index):\n",
    "        if self.stacks == []:\n",
    "            raise NameError(\"can't pop an empty stack\")\n",
    "        elif index-1 > len(self.stacks):\n",
    "            raise NameError(\"index is out of range\")\n",
    "        else:\n",
    "            popped_data = self.stacks[index-1][-1]\n",
    "            if len(self.stacks[index-1]) == 1:\n",
    "                del self.stacks[-1]\n",
    "            elif len(self.stacks) == index:\n",
    "                del self.stacks[-1][-1]\n",
    "            else:\n",
    "                self.stacks[index-1][-1] = self.stacks[index][0]\n",
    "\n",
    "                for i in range(index, len(self.stacks)):\n",
    "                    for j in range(0, len(self.stacks[i])-1 ):\n",
    "                        self.stacks[i][j] = self.stacks[i][j+1]\n",
    "                    if i < len(self.stacks) -1:\n",
    "                        self.stacks[i][-1] = self.stacks[i+1][0]\n",
    "                del self.stacks[-1][-1]\n",
    "                if len(self.stacks[-1]) == 0:\n",
    "                    del self.stacks[-1]\n",
    "        return popped_data"
   ]
  },
  {
   "cell_type": "markdown",
   "metadata": {},
   "source": [
    "## 3.4\n",
    "Queue via Stacks"
   ]
  },
  {
   "cell_type": "code",
   "execution_count": 22,
   "metadata": {},
   "outputs": [],
   "source": [
    "class MyQueue:\n",
    "    def __init__(self):\n",
    "        self.queue = []\n",
    "        self.temp = []\n",
    "    \n",
    "    def push(self, val):\n",
    "        # Move all elements from queue to temp\n",
    "        while len(self.queue) != 0:\n",
    "            self.temp.append( self.queue.pop() )\n",
    "        \n",
    "        # Push val into temp\n",
    "        self.temp.append(val)\n",
    "        \n",
    "        # Move all elements from temp to stack\n",
    "        while len(self.temp) != 0:\n",
    "            self.queue.append( self.temp.pop() )\n",
    "            \n",
    "    def pop(self):\n",
    "        # check whether queue is empty\n",
    "        if len(self.queue) == 0:\n",
    "            print(\"queue is Empty\")\n",
    "            return False\n",
    "        return self.queue.pop()"
   ]
  },
  {
   "cell_type": "code",
   "execution_count": 23,
   "metadata": {},
   "outputs": [
    {
     "name": "stdout",
     "output_type": "stream",
     "text": [
      "push 0 queue is [0]\n",
      "push 1 queue is [1, 0]\n",
      "push 2 queue is [2, 1, 0]\n",
      "push 3 queue is [3, 2, 1, 0]\n",
      "push 4 queue is [4, 3, 2, 1, 0]\n",
      "push 5 queue is [5, 4, 3, 2, 1, 0]\n",
      "push 6 queue is [6, 5, 4, 3, 2, 1, 0]\n",
      "push 7 queue is [7, 6, 5, 4, 3, 2, 1, 0]\n",
      "push 8 queue is [8, 7, 6, 5, 4, 3, 2, 1, 0]\n",
      "push 9 queue is [9, 8, 7, 6, 5, 4, 3, 2, 1, 0]\n",
      " pop 0 queue is [9, 8, 7, 6, 5, 4, 3, 2, 1]\n",
      " pop 1 queue is [9, 8, 7, 6, 5, 4, 3, 2]\n",
      " pop 2 queue is [9, 8, 7, 6, 5, 4, 3]\n",
      " pop 3 queue is [9, 8, 7, 6, 5, 4]\n",
      " pop 4 queue is [9, 8, 7, 6, 5]\n",
      " pop 5 queue is [9, 8, 7, 6]\n",
      " pop 6 queue is [9, 8, 7]\n",
      " pop 7 queue is [9, 8]\n",
      " pop 8 queue is [9]\n",
      " pop 9 queue is []\n"
     ]
    }
   ],
   "source": [
    "# Driver code\n",
    "if __name__ == '__main__':\n",
    "    test = MyQueue()\n",
    "    for i in range(10):\n",
    "        test.push(i)\n",
    "        print(\"push\", i, \"queue is\",test.queue)\n",
    "    for i in range(10):\n",
    "        test.pop()\n",
    "        print(\" pop\", i, \"queue is\",test.queue)"
   ]
  },
  {
   "cell_type": "markdown",
   "metadata": {},
   "source": [
    "## 3.5\n",
    "Sort Stack"
   ]
  },
  {
   "cell_type": "code",
   "execution_count": 11,
   "metadata": {},
   "outputs": [],
   "source": [
    "class SortedStack:\n",
    "    def __init__(self):\n",
    "        self.stack = []\n",
    "        self.temp = []\n",
    "\n",
    "    def push(self, val):\n",
    "        if len(self.stack) == 0 or val <= self.stack[-1]:\n",
    "            self.stack.append(val)\n",
    "        else:\n",
    "            while (len(self.stack) != 0) and val > self.stack[-1]:\n",
    "                # move stack to temp\n",
    "                self.temp.append( self.stack.pop() )\n",
    "            \n",
    "            self.stack.append(val)\n",
    "            \n",
    "            while len(self.temp) != 0:\n",
    "                self.stack.append( self.temp.pop() )"
   ]
  },
  {
   "cell_type": "code",
   "execution_count": 12,
   "metadata": {},
   "outputs": [
    {
     "name": "stdout",
     "output_type": "stream",
     "text": [
      "push: 1 sortedstack is [1]\n",
      "push: 3 sortedstack is [3, 1]\n",
      "push: 4 sortedstack is [4, 3, 1]\n"
     ]
    }
   ],
   "source": [
    "# test_set = [1,0,3,5,2,7,9,0]\n",
    "test_set = [1,3,4]\n",
    "test = SortedStack()\n",
    "for i in test_set:\n",
    "    test.push(i)\n",
    "    print(\"push:\",i,\"sortedstack is\", test.stack)"
   ]
  },
  {
   "cell_type": "markdown",
   "metadata": {},
   "source": [
    "## 3.6\n",
    "Animal Shelter"
   ]
  },
  {
   "cell_type": "code",
   "execution_count": 13,
   "metadata": {},
   "outputs": [],
   "source": [
    "from collections import deque"
   ]
  },
  {
   "cell_type": "code",
   "execution_count": 14,
   "metadata": {},
   "outputs": [],
   "source": [
    "class Animal_node:\n",
    "    def __init__(self, kind, age, contained_order=None):\n",
    "        self.kind = kind\n",
    "        self.age = age\n",
    "        self.contained_order = contained_order"
   ]
  },
  {
   "cell_type": "code",
   "execution_count": 15,
   "metadata": {},
   "outputs": [],
   "source": [
    "# class AnimalShelter(object):\n",
    "class AnimalShelter:\n",
    "    def __init__(self):\n",
    "        # do some intialize if necessary\n",
    "        self.dogs = deque([])\n",
    "        self.cats = deque([])\n",
    "        self.total_contain_order = 0\n",
    "        \n",
    "    def enqueue(self, kind, age):\n",
    "        new_animal = Animal_node(kind, age, self.total_contain_order)\n",
    "        \n",
    "        if new_animal.kind == \"dog\":\n",
    "            self.dogs.append( new_animal )\n",
    "            self.total_contain_order = self.total_contain_order + 1\n",
    "            \n",
    "        elif new_animal.kind == \"cat\":\n",
    "            self.cats.append( new_animal )\n",
    "            self.total_contain_order = self.total_contain_order + 1\n",
    "            \n",
    "        else:\n",
    "            print(\"Wraning! We just contain dog or cat\")\n",
    "            \n",
    "    def dequeueAny(self):\n",
    "        if len(self.dogs) == 0 and len(self.cats) == 0:\n",
    "            print(\"There aren't any dog or cat in our shelter.\")\n",
    "            return None\n",
    "\n",
    "        elif len(self.dogs) == 0:\n",
    "            cat = self.cats.popleft()\n",
    "            return cat\n",
    "\n",
    "        elif len(self.cats) == 0:\n",
    "            dog = self.dogs.popleft()\n",
    "            return dog\n",
    "\n",
    "        else:\n",
    "            dog = self.dogs[0]\n",
    "            cat = self.cats[0]\n",
    "            if dog.contained_order > cat.contained_order:\n",
    "                self.cats.popleft()\n",
    "                return cat\n",
    "            else:\n",
    "                self.dogs.popleft()\n",
    "                return dog\n",
    "    def dequeueDog(self):\n",
    "        if len(self.dogs) == 0:\n",
    "            print(\"There aren't any dog in our shelter.\")\n",
    "            return None\n",
    "        dog = self.dogs.popleft()\n",
    "        return dog\n",
    "    \n",
    "    def dequeueCat(self):\n",
    "        if len(self.dogs) == 0:\n",
    "            print(\"There aren't any dog in our shelter.\")\n",
    "            return None\n",
    "        cat = self.cats.popleft()\n",
    "        return cat"
   ]
  },
  {
   "cell_type": "code",
   "execution_count": 16,
   "metadata": {},
   "outputs": [
    {
     "name": "stdout",
     "output_type": "stream",
     "text": [
      "enqueue cat , total dogs are 0 , total cats are 1\n",
      "enqueue dog , total dogs are 1 , total cats are 1\n",
      "enqueue dog , total dogs are 2 , total cats are 1\n",
      "enqueue cat , total dogs are 2 , total cats are 2\n",
      "dequeue cat , age is 1 , contained order is 0 , total dogs are 2 , total cats are 1\n",
      "dequeue dog , age is 3 , contained order is 1 , total dogs are 1 , total cats are 1\n",
      "dequeue dog , age is 7 , contained order is 2 , total dogs are 0 , total cats are 1\n",
      "dequeue cat , age is 8 , contained order is 3 , total dogs are 0 , total cats are 0\n"
     ]
    }
   ],
   "source": [
    "test = AnimalShelter()\n",
    "# test_set_kind = [\"cat\",\"dog\",\"dog\",\"cat\",\"cat\",\"dog\",\"cat\",\"cat\",\"dog\"]\n",
    "test_set_kind = [\"cat\",\"dog\",\"dog\",\"cat\"]\n",
    "# test_set_age = [1,3,7,8,3,2,5,8,4]\n",
    "test_set_age = [1,3,7,8]\n",
    "for i in range(len(test_set_age)):\n",
    "    test.enqueue(test_set_kind[i], test_set_age[i])\n",
    "    print(\"enqueue\", test_set_kind[i],\", total dogs are\", len(test.dogs), \", total cats are\", len(test.cats))\n",
    "for i in range(len(test_set_age)):\n",
    "    out = test.dequeueAny()\n",
    "    print(\"dequeue\", out.kind, \", age is\", out.age ,\", contained order is\", out.contained_order,\", total dogs are\", len(test.dogs), \", total cats are\", len(test.cats))"
   ]
  },
  {
   "cell_type": "code",
   "execution_count": 17,
   "metadata": {},
   "outputs": [
    {
     "name": "stdout",
     "output_type": "stream",
     "text": [
      "total dogs are 2 , total cats are 2\n",
      "dequeue cat , age is 1 , contained order is 0 , total dogs are 2 , total cats are 1\n",
      "dequeue dog , age is 3 , contained order is 1 , total dogs are 1 , total cats are 1\n"
     ]
    }
   ],
   "source": [
    "test = AnimalShelter()\n",
    "# test_set_kind = [\"cat\",\"dog\",\"dog\",\"cat\",\"cat\",\"dog\",\"cat\",\"cat\",\"dog\"]\n",
    "test_set_kind = [\"cat\",\"dog\",\"dog\",\"cat\"]\n",
    "# test_set_age = [1,3,7,8,3,2,5,8,4]\n",
    "test_set_age = [1,3,7,8]\n",
    "for i in range(len(test_set_age)):\n",
    "    test.enqueue(test_set_kind[i], test_set_age[i])\n",
    "print(\"total dogs are\", len(test.dogs), \", total cats are\", len(test.cats))\n",
    "out = test.dequeueCat()\n",
    "print(\"dequeue\", out.kind, \", age is\", out.age ,\", contained order is\", out.contained_order,\", total dogs are\", len(test.dogs), \", total cats are\", len(test.cats))\n",
    "out = test.dequeueDog()\n",
    "print(\"dequeue\", out.kind, \", age is\", out.age ,\", contained order is\", out.contained_order,\", total dogs are\", len(test.dogs), \", total cats are\", len(test.cats))"
   ]
  }
 ],
 "metadata": {
  "kernelspec": {
   "display_name": "Python 3",
   "language": "python",
   "name": "python3"
  },
  "language_info": {
   "codemirror_mode": {
    "name": "ipython",
    "version": 3
   },
   "file_extension": ".py",
   "mimetype": "text/x-python",
   "name": "python",
   "nbconvert_exporter": "python",
   "pygments_lexer": "ipython3",
   "version": "3.7.6"
  }
 },
 "nbformat": 4,
 "nbformat_minor": 4
}
