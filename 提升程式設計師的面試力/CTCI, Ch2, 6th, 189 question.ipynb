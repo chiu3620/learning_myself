{
 "cells": [
  {
   "cell_type": "markdown",
   "metadata": {},
   "source": [
    "# Chapter 2"
   ]
  },
  {
   "cell_type": "markdown",
   "metadata": {},
   "source": [
    "## linkedList\n",
    "在練習的時候會用到"
   ]
  },
  {
   "cell_type": "code",
   "execution_count": 5,
   "metadata": {},
   "outputs": [],
   "source": [
    "class node:\n",
    "    def __init__(self, data=None):\n",
    "        self.data = data\n",
    "        self.next = None"
   ]
  },
  {
   "cell_type": "code",
   "execution_count": 6,
   "metadata": {},
   "outputs": [],
   "source": [
    "class linkedList:\n",
    "    def __init__(self):\n",
    "        self.head = node()\n",
    "    \n",
    "    # Adds new node containing 'data' to the beginning of the linked list.\n",
    "    def insert_beginning(self, data = None):\n",
    "        new_node = node(data)\n",
    "        cur_node = self.head\n",
    "        if self.head.data == None:\n",
    "            cur_node.data = data\n",
    "        else:\n",
    "            new_node.next = cur_node\n",
    "            self.head = new_node\n",
    "    \n",
    "    # Adds new node containing 'data' to the end of the linked list.\n",
    "    def insert_last(self, data = None):\n",
    "        new_node = node(data)\n",
    "        cur_node = self.head\n",
    "        if cur_node.data == None:\n",
    "            cur_node.data = data\n",
    "        else:\n",
    "            # Find the late node of the current linked list\n",
    "            while cur_node.next != None:\n",
    "                cur_node = cur_node.next\n",
    "            # Adds new node behind the end of the current linked list\n",
    "            cur_node.next = new_node\n",
    "    \n",
    "    # Returns the length (integer) of the linked list.\n",
    "    def length(self):\n",
    "        cur_node = self.head\n",
    "        total = 0\n",
    "        while cur_node != None:\n",
    "            total = total + 1\n",
    "            cur_node = cur_node.next\n",
    "        return total\n",
    "\n",
    "    # Prints out the linked list in traditional Python list format.\n",
    "    def display(self):\n",
    "        elems = []\n",
    "        cur_node = self.head\n",
    "        while cur_node != None:\n",
    "            elems.append(cur_node.data)\n",
    "            cur_node = cur_node.next\n",
    "        print(elems)\n",
    "    \n",
    "    # Prints out the linked list.\n",
    "    def printlist(self):\n",
    "        cur_node = self.head\n",
    "        while cur_node != None:\n",
    "            print(cur_node.data)\n",
    "            cur_node = cur_node.next\n",
    "    \n",
    "    # Returns the value of the node at 'index'.\n",
    "    def get(self,index):\n",
    "        if index > self.length() or index <= 0:\n",
    "            print(\"ERROR: 'Erase' Index out of range!\")\n",
    "            return None\n",
    "        cur_idx = 1\n",
    "        cur_node = self.head\n",
    "        while cur_node != None:\n",
    "            if cur_idx == index:\n",
    "                return cur_node\n",
    "            cur_node = cur_node.next\n",
    "            cur_idx = cur_idx + 1\n",
    "    \n",
    "    # Deletes the node at index 'index'.\n",
    "    def erase(self,index):\n",
    "        if index > self.length() or index <= 0:\n",
    "            print(\"ERROR: 'Erase' Index out of range!\")\n",
    "            return\n",
    "        cur_idx = 1\n",
    "        last_node = self.head\n",
    "        cur_node = self.head\n",
    "        while cur_node != None:\n",
    "            if cur_idx == index:\n",
    "                last_node.next = cur_node.next\n",
    "                return\n",
    "            last_node = cur_node\n",
    "            cur_node = cur_node.next\n",
    "            cur_idx = cur_idx + 1\n",
    "            \n",
    "    # Allows for bracket operator syntax (i.e. a[0] to return first item).\n",
    "    def __getitem__(self,index):\n",
    "        return self.get(index)"
   ]
  },
  {
   "cell_type": "markdown",
   "metadata": {},
   "source": [
    "## 2.1\n",
    "Remove Dups"
   ]
  },
  {
   "cell_type": "code",
   "execution_count": 7,
   "metadata": {},
   "outputs": [],
   "source": [
    "def remove_dups(link):\n",
    "    cur_node = link.head\n",
    "    pre_node = link.head\n",
    "    seen = set()\n",
    "    while cur_node != None:\n",
    "        if cur_node.data in seen:\n",
    "            pre_node.next = cur_node.next\n",
    "        else:\n",
    "            seen.add(cur_node.data)\n",
    "            pre_node = cur_node\n",
    "        cur_node = cur_node.next\n",
    "    return link"
   ]
  },
  {
   "cell_type": "code",
   "execution_count": 8,
   "metadata": {},
   "outputs": [],
   "source": [
    "def remove_dups_followup(link):\n",
    "    current = link.head\n",
    "    while current:\n",
    "        runner = current\n",
    "        while runner.next:\n",
    "            if runner.next.data == current.data:\n",
    "                runner.next = runner.next.next\n",
    "            else:\n",
    "                runner = runner.next\n",
    "        current = current.next\n",
    "    return link"
   ]
  },
  {
   "cell_type": "code",
   "execution_count": 9,
   "metadata": {},
   "outputs": [
    {
     "name": "stdout",
     "output_type": "stream",
     "text": [
      "[0, 1, 2, 3, 4, 0, 1, 2, 3, 4]\n"
     ]
    }
   ],
   "source": [
    "test = linkedList()\n",
    "for i in range(5):\n",
    "    test.insert_last(i)\n",
    "for i in range(5):\n",
    "    test.insert_last(i)\n",
    "test.display()"
   ]
  },
  {
   "cell_type": "code",
   "execution_count": 10,
   "metadata": {},
   "outputs": [
    {
     "name": "stdout",
     "output_type": "stream",
     "text": [
      "[0, 1, 2, 3, 4]\n"
     ]
    }
   ],
   "source": [
    "out = remove_dups(test)\n",
    "out.display()"
   ]
  },
  {
   "cell_type": "markdown",
   "metadata": {},
   "source": [
    "## 2.2\n",
    "Return Kth to Last"
   ]
  },
  {
   "cell_type": "code",
   "execution_count": 11,
   "metadata": {},
   "outputs": [],
   "source": [
    "def kth_to_last(link,index):\n",
    "    k = 0;\n",
    "    output = linkedList()\n",
    "    cur_node = link.head\n",
    "    while cur_node != None:\n",
    "        if k >= index:\n",
    "            output.insert_last(cur_node.data)\n",
    "            cur_node = cur_node.next\n",
    "            k = k + 1\n",
    "        else:\n",
    "            cur_node = cur_node.next\n",
    "            k = k + 1\n",
    "    if k < index:\n",
    "        print(\"ERROR: Index out of range!\")\n",
    "        return None\n",
    "    return output"
   ]
  },
  {
   "cell_type": "code",
   "execution_count": 12,
   "metadata": {},
   "outputs": [
    {
     "name": "stdout",
     "output_type": "stream",
     "text": [
      "[0, 1, 2, 3, 4, 5, 6, 7, 8, 9]\n"
     ]
    }
   ],
   "source": [
    "test = linkedList()\n",
    "for i in range(10):\n",
    "    test.insert_last(i)\n",
    "test.display()"
   ]
  },
  {
   "cell_type": "code",
   "execution_count": 16,
   "metadata": {},
   "outputs": [
    {
     "name": "stdout",
     "output_type": "stream",
     "text": [
      "[5, 6, 7, 8, 9]\n"
     ]
    }
   ],
   "source": [
    "out = kth_to_last(test, 5)\n",
    "out.display()"
   ]
  },
  {
   "cell_type": "markdown",
   "metadata": {},
   "source": [
    "## 2.3\n",
    "delete middle node "
   ]
  },
  {
   "cell_type": "code",
   "execution_count": 17,
   "metadata": {},
   "outputs": [],
   "source": [
    "def delete(link, val):\n",
    "    cur_node = link.head\n",
    "    pre_node = link.head\n",
    "    edited = 0\n",
    "    while cur_node != None:\n",
    "        if cur_node.data == val:\n",
    "            pre_node.next = cur_node.next\n",
    "            edited = edited + 1\n",
    "        pre_node =  cur_node\n",
    "        cur_node = cur_node.next\n",
    "    if edited == 0:\n",
    "        print(\"There aren't input data in the linklist.\")\n",
    "    return link"
   ]
  },
  {
   "cell_type": "code",
   "execution_count": 18,
   "metadata": {},
   "outputs": [
    {
     "name": "stdout",
     "output_type": "stream",
     "text": [
      "[0, 1, 2, 3, 4, 5, 6, 7, 8, 9]\n"
     ]
    }
   ],
   "source": [
    "test = linkedList()\n",
    "for i in range(10):\n",
    "    test.insert_last(i)\n",
    "test.display()"
   ]
  },
  {
   "cell_type": "code",
   "execution_count": 19,
   "metadata": {},
   "outputs": [
    {
     "name": "stdout",
     "output_type": "stream",
     "text": [
      "[0, 1, 2, 3, 4, 6, 7, 8, 9]\n"
     ]
    }
   ],
   "source": [
    "out = delete(test, 5)\n",
    "out.display()"
   ]
  },
  {
   "cell_type": "markdown",
   "metadata": {},
   "source": [
    "# 2.4\n",
    "Partition"
   ]
  },
  {
   "cell_type": "code",
   "execution_count": 20,
   "metadata": {},
   "outputs": [],
   "source": [
    "def partition(link, val):\n",
    "    out = linkedList()\n",
    "    cur_node = link.head\n",
    "    while cur_node != None:\n",
    "        if cur_node.data >= val:\n",
    "            out.insert_last(cur_node.data)\n",
    "        else:\n",
    "            out.insert_beginning(cur_node.data)\n",
    "        cur_node = cur_node.next\n",
    "    return out"
   ]
  },
  {
   "cell_type": "code",
   "execution_count": 21,
   "metadata": {},
   "outputs": [
    {
     "name": "stdout",
     "output_type": "stream",
     "text": [
      "[3, 5, 8, 5, 10, 2, 1]\n"
     ]
    }
   ],
   "source": [
    "test_set = [3, 5, 8, 5, 10, 2, 1]\n",
    "test = linkedList()\n",
    "for i in test_set:\n",
    "    test.insert_last(i)\n",
    "test.display()"
   ]
  },
  {
   "cell_type": "code",
   "execution_count": 22,
   "metadata": {},
   "outputs": [
    {
     "name": "stdout",
     "output_type": "stream",
     "text": [
      "[1, 2, 3, 5, 8, 5, 10]\n"
     ]
    }
   ],
   "source": [
    "out = partition(test, 5)\n",
    "out.display()"
   ]
  },
  {
   "cell_type": "markdown",
   "metadata": {},
   "source": [
    "## 2.5\n",
    "Sum Lists"
   ]
  },
  {
   "cell_type": "code",
   "execution_count": 23,
   "metadata": {},
   "outputs": [],
   "source": [
    "def Sum_Lists(link1, link2):\n",
    "    cur_node1 = link1.head\n",
    "    cur_node2 = link2.head\n",
    "    out = linkedList()\n",
    "    carry = 0\n",
    "    # 其中一個比較長，要注意\n",
    "    while (cur_node1 != None) or (cur_node2 != None):\n",
    "        if cur_node1 == None:\n",
    "            out.insert_last(cur_node2.data + carry)\n",
    "            carry = 0\n",
    "            cur_node2 = cur_node2.next\n",
    "        elif cur_node2 == None:\n",
    "            out.insert_last(cur_node1.data + carry)\n",
    "            carry = 0\n",
    "            cur_node1 = cur_node1.next\n",
    "        else:\n",
    "            # 要記得加上進位\n",
    "            result = cur_node1.data + cur_node2.data + carry\n",
    "            out.insert_last(result%10)\n",
    "            # 存下進位\n",
    "            carry = result//10\n",
    "            cur_node1 = cur_node1.next\n",
    "            cur_node2 = cur_node2.next\n",
    "    return out"
   ]
  },
  {
   "cell_type": "code",
   "execution_count": 24,
   "metadata": {},
   "outputs": [
    {
     "name": "stdout",
     "output_type": "stream",
     "text": [
      "[7, 1, 6]\n",
      "[5, 9, 2]\n"
     ]
    }
   ],
   "source": [
    "test_set1 = [7,1,6]\n",
    "test_set2 = [5,9,2]\n",
    "test1 = linkedList()\n",
    "test2 = linkedList()\n",
    "for i in test_set1:\n",
    "    test1.insert_last(i)\n",
    "for i in test_set2:\n",
    "    test2.insert_last(i)\n",
    "test1.display()\n",
    "test2.display()"
   ]
  },
  {
   "cell_type": "code",
   "execution_count": 25,
   "metadata": {},
   "outputs": [
    {
     "name": "stdout",
     "output_type": "stream",
     "text": [
      "[2, 1, 9]\n"
     ]
    }
   ],
   "source": [
    "out = Sum_Lists(test1, test2)\n",
    "out.display()"
   ]
  },
  {
   "cell_type": "code",
   "execution_count": 26,
   "metadata": {},
   "outputs": [
    {
     "name": "stdout",
     "output_type": "stream",
     "text": [
      "[7, 1, 6, 8]\n",
      "[5, 9, 2]\n"
     ]
    }
   ],
   "source": [
    "test_set1 = [7,1,6,8]\n",
    "test_set2 = [5,9,2]\n",
    "test1 = linkedList()\n",
    "test2 = linkedList()\n",
    "for i in test_set1:\n",
    "    test1.insert_last(i)\n",
    "for i in test_set2:\n",
    "    test2.insert_last(i)\n",
    "test1.display()\n",
    "test2.display()"
   ]
  },
  {
   "cell_type": "code",
   "execution_count": 27,
   "metadata": {},
   "outputs": [
    {
     "name": "stdout",
     "output_type": "stream",
     "text": [
      "[2, 1, 9, 8]\n"
     ]
    }
   ],
   "source": [
    "out = Sum_Lists(test1, test2)\n",
    "out.display()"
   ]
  },
  {
   "cell_type": "code",
   "execution_count": 28,
   "metadata": {},
   "outputs": [
    {
     "name": "stdout",
     "output_type": "stream",
     "text": [
      "[7, 1, 6]\n",
      "[5, 9, 2, 5]\n"
     ]
    }
   ],
   "source": [
    "test_set1 = [7,1,6]\n",
    "test_set2 = [5,9,2,5]\n",
    "test1 = linkedList()\n",
    "test2 = linkedList()\n",
    "for i in test_set1:\n",
    "    test1.insert_last(i)\n",
    "for i in test_set2:\n",
    "    test2.insert_last(i)\n",
    "test1.display()\n",
    "test2.display()"
   ]
  },
  {
   "cell_type": "code",
   "execution_count": 29,
   "metadata": {},
   "outputs": [
    {
     "name": "stdout",
     "output_type": "stream",
     "text": [
      "[2, 1, 9, 5]\n"
     ]
    }
   ],
   "source": [
    "out = Sum_Lists(test1, test2)\n",
    "out.display()"
   ]
  },
  {
   "cell_type": "code",
   "execution_count": 30,
   "metadata": {},
   "outputs": [],
   "source": [
    "def Sum_Lists_follow_up(link1, link2):\n",
    "    # 從最尾端開始加\n",
    "    length1 = link1.length()\n",
    "    length2 = link2.length()\n",
    "    out = linkedList()\n",
    "    carry = 0\n",
    "    for i in range( max(length1,length2) ):\n",
    "        if i >= length1:\n",
    "            out.insert_beginning( link2.get(length2 - i).data + carry)\n",
    "            carry = 0\n",
    "        elif i >= length2:\n",
    "            out.insert_beginning( link1.get(length1 - i).data + carry )\n",
    "            carry = 0\n",
    "        else:\n",
    "            result = link1.get(length1 - i).data + link2.get(length2 - i).data + carry\n",
    "            out.insert_beginning(result%10)\n",
    "            carry = result//10\n",
    "    return out"
   ]
  },
  {
   "cell_type": "code",
   "execution_count": 31,
   "metadata": {},
   "outputs": [
    {
     "name": "stdout",
     "output_type": "stream",
     "text": [
      "[6, 1, 7]\n",
      "[2, 9, 5]\n"
     ]
    }
   ],
   "source": [
    "test_set1 = [6,1,7]\n",
    "test_set2 = [2,9,5]\n",
    "test1 = linkedList()\n",
    "test2 = linkedList()\n",
    "for i in test_set1:\n",
    "    test1.insert_last(i)\n",
    "for i in test_set2:\n",
    "    test2.insert_last(i)\n",
    "test1.display()\n",
    "test2.display()"
   ]
  },
  {
   "cell_type": "code",
   "execution_count": 32,
   "metadata": {},
   "outputs": [
    {
     "name": "stdout",
     "output_type": "stream",
     "text": [
      "[9, 1, 2]\n"
     ]
    }
   ],
   "source": [
    "out = Sum_Lists_follow_up(test1, test2)\n",
    "out.display()"
   ]
  },
  {
   "cell_type": "code",
   "execution_count": 33,
   "metadata": {},
   "outputs": [
    {
     "name": "stdout",
     "output_type": "stream",
     "text": [
      "[7, 1, 6, 8]\n",
      "[5, 9, 2]\n"
     ]
    }
   ],
   "source": [
    "test_set1 = [7,1,6,8]\n",
    "test_set2 = [5,9,2]\n",
    "test1 = linkedList()\n",
    "test2 = linkedList()\n",
    "for i in test_set1:\n",
    "    test1.insert_last(i)\n",
    "for i in test_set2:\n",
    "    test2.insert_last(i)\n",
    "test1.display()\n",
    "test2.display()"
   ]
  },
  {
   "cell_type": "code",
   "execution_count": 34,
   "metadata": {},
   "outputs": [
    {
     "name": "stdout",
     "output_type": "stream",
     "text": [
      "[7, 7, 6, 0]\n"
     ]
    }
   ],
   "source": [
    "out = Sum_Lists_follow_up(test1, test2)\n",
    "out.display()"
   ]
  },
  {
   "cell_type": "code",
   "execution_count": 35,
   "metadata": {},
   "outputs": [
    {
     "name": "stdout",
     "output_type": "stream",
     "text": [
      "[7, 1, 6]\n",
      "[5, 9, 2, 5]\n"
     ]
    }
   ],
   "source": [
    "test_set1 = [7,1,6]\n",
    "test_set2 = [5,9,2,5]\n",
    "test1 = linkedList()\n",
    "test2 = linkedList()\n",
    "for i in test_set1:\n",
    "    test1.insert_last(i)\n",
    "for i in test_set2:\n",
    "    test2.insert_last(i)\n",
    "test1.display()\n",
    "test2.display()"
   ]
  },
  {
   "cell_type": "code",
   "execution_count": 36,
   "metadata": {},
   "outputs": [
    {
     "name": "stdout",
     "output_type": "stream",
     "text": [
      "[6, 6, 4, 1]\n"
     ]
    }
   ],
   "source": [
    "out = Sum_Lists_follow_up(test1, test2)\n",
    "out.display()"
   ]
  },
  {
   "cell_type": "markdown",
   "metadata": {},
   "source": [
    "## 2.6\n",
    "Palindrome"
   ]
  },
  {
   "cell_type": "code",
   "execution_count": 37,
   "metadata": {},
   "outputs": [],
   "source": [
    "def Palindrome(link):\n",
    "    outcome = []\n",
    "    cur_node = link.head\n",
    "    # 把list的結果存下來\n",
    "    while cur_node != None:\n",
    "        outcome.append(cur_node.data)\n",
    "        cur_node = cur_node.next\n",
    "    outcome_len = len(outcome)\n",
    "    # 如果頭尾不同，就不是\n",
    "    for i in range( outcome_len//2 ):\n",
    "        if outcome[i] != outcome[outcome_len - (i+1)]:\n",
    "            return False\n",
    "    return True"
   ]
  },
  {
   "cell_type": "code",
   "execution_count": 38,
   "metadata": {},
   "outputs": [
    {
     "name": "stdout",
     "output_type": "stream",
     "text": [
      "[7, 1, 6, 1, 7]\n"
     ]
    }
   ],
   "source": [
    "test_set = [7,1,6,1,7]\n",
    "test = linkedList()\n",
    "for i in test_set:\n",
    "    test.insert_last(i)\n",
    "xxx = test.display()"
   ]
  },
  {
   "cell_type": "code",
   "execution_count": 39,
   "metadata": {},
   "outputs": [
    {
     "data": {
      "text/plain": [
       "True"
      ]
     },
     "execution_count": 39,
     "metadata": {},
     "output_type": "execute_result"
    }
   ],
   "source": [
    "Palindrome(test)"
   ]
  },
  {
   "cell_type": "code",
   "execution_count": 40,
   "metadata": {},
   "outputs": [
    {
     "name": "stdout",
     "output_type": "stream",
     "text": [
      "[7, 1, 6, 1, 8]\n"
     ]
    }
   ],
   "source": [
    "test_set = [7,1,6,1,8]\n",
    "test = linkedList()\n",
    "for i in test_set:\n",
    "    test.insert_last(i)\n",
    "xxx = test.display()"
   ]
  },
  {
   "cell_type": "code",
   "execution_count": 41,
   "metadata": {},
   "outputs": [
    {
     "data": {
      "text/plain": [
       "False"
      ]
     },
     "execution_count": 41,
     "metadata": {},
     "output_type": "execute_result"
    }
   ],
   "source": [
    "Palindrome(test)"
   ]
  },
  {
   "cell_type": "markdown",
   "metadata": {},
   "source": [
    "## 2.8\n",
    "Intersection"
   ]
  },
  {
   "cell_type": "code",
   "execution_count": 42,
   "metadata": {},
   "outputs": [],
   "source": [
    "def intersection(link1, link2):\n",
    "    len1 = link1.length()\n",
    "    len2 = link2.length()\n",
    "    cur_node1 = link1.head\n",
    "    cur_node2 = link2.head\n",
    "    # 如果link1和link2長度不同，移動比較長的list，讓兩個list長度一樣\n",
    "    if len1 != len2:\n",
    "        if len1 > len2:\n",
    "            diff = len1 - len2\n",
    "            for _ in range(diff):\n",
    "                cur_node1 = cur_node1.next\n",
    "        else:\n",
    "            diff = len2 - len1\n",
    "            for _ in range(diff):\n",
    "                cur_node2 = cur_node2.next\n",
    "    \n",
    "    for i in range( min( len1, len2 ) ):\n",
    "        if cur_node1 == cur_node2:\n",
    "            return True\n",
    "        cur_node1 = cur_node1.next\n",
    "        cur_node2 = cur_node2.next\n",
    "    return False"
   ]
  },
  {
   "cell_type": "code",
   "execution_count": 43,
   "metadata": {},
   "outputs": [],
   "source": [
    "test1 = linkedList()\n",
    "for i in range(0,5):\n",
    "    test1.insert_last(i)\n",
    "test2 = linkedList()\n",
    "for i in range(5,15):\n",
    "    test2.insert_last(i)\n",
    "test3 = linkedList()\n",
    "for i in range(100,105):\n",
    "    test3.insert_last(i)"
   ]
  },
  {
   "cell_type": "code",
   "execution_count": 44,
   "metadata": {},
   "outputs": [
    {
     "name": "stdout",
     "output_type": "stream",
     "text": [
      "[0, 1, 2, 3, 4]\n",
      "[5, 6, 7, 8, 9, 10, 11, 12, 13, 14]\n"
     ]
    },
    {
     "data": {
      "text/plain": [
       "False"
      ]
     },
     "execution_count": 44,
     "metadata": {},
     "output_type": "execute_result"
    }
   ],
   "source": [
    "test1.display()\n",
    "test2.display()\n",
    "intersection(test1, test2)"
   ]
  },
  {
   "cell_type": "code",
   "execution_count": 45,
   "metadata": {},
   "outputs": [
    {
     "name": "stdout",
     "output_type": "stream",
     "text": [
      "[0, 1, 2, 3, 4, 100, 101, 102, 103, 104]\n",
      "[5, 6, 7, 8, 9, 10, 11, 12, 13, 14, 100, 101, 102, 103, 104]\n"
     ]
    },
    {
     "data": {
      "text/plain": [
       "True"
      ]
     },
     "execution_count": 45,
     "metadata": {},
     "output_type": "execute_result"
    }
   ],
   "source": [
    "test1.get(test1.length()).next = test3.head\n",
    "test1.display()\n",
    "test2.get(test2.length()).next = test3.head\n",
    "test2.display()\n",
    "intersection(test1, test2)"
   ]
  },
  {
   "cell_type": "markdown",
   "metadata": {},
   "source": [
    "## 2.8\n",
    "Loop Detection"
   ]
  },
  {
   "cell_type": "code",
   "execution_count": 46,
   "metadata": {},
   "outputs": [],
   "source": [
    "def Loop_Detection(link):\n",
    "    fast = link.head\n",
    "    slow = link.head\n",
    "    # check whether is loop\n",
    "    # because fast will move two steps, so we need to check fast and fast.next aren't empty\n",
    "    while (fast != None) and (fast.next != None):\n",
    "        fast = fast.next.next\n",
    "        slow = slow.next\n",
    "        if fast == slow:\n",
    "            break\n",
    "    # if on of fast and fast.next is empty, that is, this linkedlist isn't loop\n",
    "    if (fast == None) or (fast.next == None):\n",
    "        print(\"This linkedlist isn't loop.\")\n",
    "        return None\n",
    "    \n",
    "    # find the node which is the start of the loop\n",
    "    slow = link.head\n",
    "    while fast != slow:\n",
    "        fast = fast.next\n",
    "        slow = slow.next\n",
    "    # return the node which is the start of the loop\n",
    "    return fast"
   ]
  },
  {
   "cell_type": "code",
   "execution_count": 50,
   "metadata": {},
   "outputs": [
    {
     "name": "stdout",
     "output_type": "stream",
     "text": [
      "[0, 1, 2, 3, 4, 5, 6, 7, 8, 9]\n",
      "0 1 2 3 4 5 6 7 8 9 5 6 7 8 9 5 6 7 8 9 "
     ]
    }
   ],
   "source": [
    "test = linkedList()\n",
    "for i in range(0,10):\n",
    "    test.insert_last(i)\n",
    "test.display()\n",
    "test.get(10).next = test.get(6)\n",
    "# print(\"The start of loop is\",test.get(6).data)\n",
    "cur_node = test.head\n",
    "for i in range(20):\n",
    "    print(cur_node.data, end=\" \")\n",
    "    cur_node = cur_node.next"
   ]
  },
  {
   "cell_type": "code",
   "execution_count": 51,
   "metadata": {},
   "outputs": [
    {
     "data": {
      "text/plain": [
       "5"
      ]
     },
     "execution_count": 51,
     "metadata": {},
     "output_type": "execute_result"
    }
   ],
   "source": [
    "out = Loop_Detection(test)\n",
    "out.data"
   ]
  }
 ],
 "metadata": {
  "kernelspec": {
   "display_name": "Python 3",
   "language": "python",
   "name": "python3"
  },
  "language_info": {
   "codemirror_mode": {
    "name": "ipython",
    "version": 3
   },
   "file_extension": ".py",
   "mimetype": "text/x-python",
   "name": "python",
   "nbconvert_exporter": "python",
   "pygments_lexer": "ipython3",
   "version": "3.7.6"
  }
 },
 "nbformat": 4,
 "nbformat_minor": 4
}
