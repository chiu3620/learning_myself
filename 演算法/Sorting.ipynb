{
 "cells": [
  {
   "cell_type": "markdown",
   "metadata": {},
   "source": [
    "### Merge sort\n",
    "時間複雜度$\\mathcal{O}(1)$(nlogn)\\\n",
    "時間複雜度$\\Theta$(nlogn)\n",
    "\n",
    "ref: https://zh.wikipedia.org/wiki/%E5%BD%92%E5%B9%B6%E6%8E%92%E5%BA%8F#Python3"
   ]
  },
  {
   "cell_type": "code",
   "execution_count": 5,
   "metadata": {},
   "outputs": [],
   "source": [
    "# //: 將小數點後的位數被除去的商。 e.g. 9//2 = 4。\n",
    "# nums[:2]: 把第2個數之前(不包含)的列出來。\n",
    "# nums[2:]: 把第2個數之後(包含)的列出來。\n",
    "# .append（）方法用於在列表末尾添加新的對象。\n",
    "# .pop（）函數用於可刪除列表中的一個元素（或者最後一個元素），並返回該元素的值。\n",
    "# +=: c+=a 代表 c=c+ a。\n",
    "def mergeSort(nums):\n",
    "    if len(nums) < 2:\n",
    "        return nums\n",
    "    mid = len(nums) // 2\n",
    "    left = mergeSort(nums[:mid])\n",
    "    right = mergeSort(nums[mid:])\n",
    "    result = []\n",
    "    while left and right:\n",
    "        if left[0] <= right[0]:\n",
    "            result.append(left.pop(0))\n",
    "        else:\n",
    "            result.append(right.pop(0))\n",
    "    if left:\n",
    "        result += left\n",
    "    if right:\n",
    "        result += right\n",
    "    return result"
   ]
  },
  {
   "cell_type": "code",
   "execution_count": 6,
   "metadata": {},
   "outputs": [
    {
     "name": "stdout",
     "output_type": "stream",
     "text": [
      "original: [1, 4, 2, 3.6, -1, 0, 25, -34, 8, 9, 1, 0]\n",
      "Sorted: [-34, -1, 0, 0, 1, 1, 2, 3.6, 4, 8, 9, 25]\n"
     ]
    }
   ],
   "source": [
    "if __name__ == \"__main__\":\n",
    "    nums = [1, 4, 2, 3.6, -1, 0, 25, -34, 8, 9, 1, 0]\n",
    "    print(\"original:\", nums)\n",
    "    print(\"Sorted:\", mergeSort(nums))"
   ]
  },
  {
   "cell_type": "markdown",
   "metadata": {},
   "source": [
    "## Quick sort\n",
    "* ref:\n",
    "    * https://www.geeksforgeeks.org/python-program-for-quicksort/\n"
   ]
  },
  {
   "cell_type": "code",
   "execution_count": 24,
   "metadata": {},
   "outputs": [],
   "source": [
    "# Python program for implementation of Quicksort Sort \n",
    "  \n",
    "# This function takes last element as pivot, places \n",
    "# the pivot element at its correct position in sorted \n",
    "# array, and places all smaller (smaller than pivot) \n",
    "# to left of pivot and all greater elements to right \n",
    "# of pivot\n",
    "\n",
    "def partition_1(arr, low, high): \n",
    "    i = (low-1)         # index of smaller element \n",
    "    pivot = arr[high]     # pivot\n",
    "    for j in range(low, high):\n",
    "        # If current element is smaller than or \n",
    "        # equal to pivot \n",
    "        if arr[j] <= pivot:\n",
    "            # increment index of smaller element \n",
    "            i = i+1\n",
    "            arr[i], arr[j] = arr[j], arr[i]\n",
    "    arr[i+1], arr[high] = arr[high], arr[i+1] \n",
    "    return (i+1) "
   ]
  },
  {
   "cell_type": "code",
   "execution_count": 25,
   "metadata": {},
   "outputs": [],
   "source": [
    "# The main function that implements QuickSort \n",
    "# arr[] --> Array to be sorted, \n",
    "# low  --> Starting index, \n",
    "# high  --> Ending index \n",
    "  \n",
    "# Function to do Quick sort \n",
    "\n",
    "def quickSort_1(arr,low, high):\n",
    "    if len(arr) == 1: \n",
    "        return arr\n",
    "    if low < high:\n",
    "        # pi is partitioning index, arr[p] is now\n",
    "        # at right place\n",
    "        pi = partition_1(arr, low, high)\n",
    "        \n",
    "        # Separately sort elements before\n",
    "        # partition and after partition\n",
    "        quickSort_1(arr, low, pi-1)\n",
    "        quickSort_1(arr, pi+1, high)"
   ]
  },
  {
   "cell_type": "code",
   "execution_count": 26,
   "metadata": {},
   "outputs": [
    {
     "name": "stdout",
     "output_type": "stream",
     "text": [
      "Sorted array is:\n",
      "1\n",
      "5\n",
      "7\n",
      "8\n",
      "9\n",
      "10\n"
     ]
    }
   ],
   "source": [
    "# Driver code to test above\n",
    "arr = [10, 7, 8, 9, 1, 5]\n",
    "n = len(arr)\n",
    "quickSort_1(arr, 0, n-1)\n",
    "print(\"Sorted array is:\")\n",
    "for i in range(n):\n",
    "    print(\"%d\" % arr[i]),\n",
    "# This code is contributed by Mohit Kumra \n",
    "# This code in improved by https://github.com/anushkrishnav "
   ]
  },
  {
   "cell_type": "code",
   "execution_count": null,
   "metadata": {},
   "outputs": [],
   "source": []
  },
  {
   "cell_type": "code",
   "execution_count": 10,
   "metadata": {},
   "outputs": [],
   "source": [
    "def quickSort_2(arr):\n",
    "    if len(arr) < 2:\n",
    "        return arr\n",
    "    result = []\n",
    "    left = []\n",
    "    right = []\n",
    "    pivot = arr[0]\n",
    "    for i in range(1,len(arr)):\n",
    "        if arr[i] <= pivot:\n",
    "            left.append(arr[i])\n",
    "        else:\n",
    "            right.append(arr[i])\n",
    "    left = quickSort_2(left)\n",
    "    right = quickSort_2(right)\n",
    "    left.append(pivot)\n",
    "    result = result + left + right\n",
    "#     result.extend(left)\n",
    "#     result.append(pivot)\n",
    "#     result.extend(right)\n",
    "    return result"
   ]
  },
  {
   "cell_type": "code",
   "execution_count": 11,
   "metadata": {},
   "outputs": [
    {
     "name": "stdout",
     "output_type": "stream",
     "text": [
      "[10, 7, 8, 9, 1, 5, 5, 5, 5, 5, 5, 5, 7]\n",
      "[1, 5, 5, 5, 5, 5, 5, 5, 7, 7, 8, 9, 10]\n"
     ]
    }
   ],
   "source": [
    "arr = [10, 7, 8, 9, 1, 5, 5,5,5,5,5,5,7] \n",
    "print(arr)\n",
    "print(quickSort_2(arr))"
   ]
  },
  {
   "cell_type": "code",
   "execution_count": 12,
   "metadata": {},
   "outputs": [
    {
     "data": {
      "text/plain": [
       "5"
      ]
     },
     "execution_count": 12,
     "metadata": {},
     "output_type": "execute_result"
    }
   ],
   "source": [
    "arr = [10, 7, 8, 9, 1, 5] \n",
    "n = len(arr)\n",
    "arr[-1]"
   ]
  }
 ],
 "metadata": {
  "kernelspec": {
   "display_name": "Python 3",
   "language": "python",
   "name": "python3"
  },
  "language_info": {
   "codemirror_mode": {
    "name": "ipython",
    "version": 3
   },
   "file_extension": ".py",
   "mimetype": "text/x-python",
   "name": "python",
   "nbconvert_exporter": "python",
   "pygments_lexer": "ipython3",
   "version": "3.7.6"
  }
 },
 "nbformat": 4,
 "nbformat_minor": 4
}
