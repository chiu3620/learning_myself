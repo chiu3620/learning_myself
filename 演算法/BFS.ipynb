{
 "cells": [
  {
   "cell_type": "markdown",
   "metadata": {},
   "source": [
    "# BFS and DFS\n",
    "ref: https://www.youtube.com/watch?v=bD8RT0ub--0&t=867s"
   ]
  },
  {
   "cell_type": "code",
   "execution_count": 1,
   "metadata": {},
   "outputs": [],
   "source": [
    "def BFS(graph, s):\n",
    "    queue = []\n",
    "    queue.append(s)\n",
    "    seen = set() \n",
    "    parent = {s : None}\n",
    "\n",
    "    while len(queue) != 0:\n",
    "        cur_node = queue.pop(0)\n",
    "        seen = seen.add(cur_node)\n",
    "        for node in graph(cur_node):\n",
    "            if next_node not in seen:\n",
    "                queue.append(next_node)\n",
    "                seen = seen.append( next_node )\n",
    "                parent[next_node] = cur_nod\n",
    "        print(cur_node)\n",
    "    return parent"
   ]
  },
  {
   "cell_type": "code",
   "execution_count": 2,
   "metadata": {},
   "outputs": [],
   "source": [
    "def DS(graph, s):\n",
    "    stack = []\n",
    "    stack.append(s)\n",
    "    seen = set() \n",
    "    parent = {s : None}\n",
    "\n",
    "    while len(stack) != 0:\n",
    "        cur_node = stack.pop()\n",
    "        seen = seen.add(cur_node)\n",
    "        for node in graph(cur_node):\n",
    "            if next_node not in seen:\n",
    "                stack.append(next_node)\n",
    "                seen = seen.append( next_node )\n",
    "                parent[next_node] = cur_nod\n",
    "        print(cur_node)\n",
    "    return parent"
   ]
  }
 ],
 "metadata": {
  "kernelspec": {
   "display_name": "Python 3",
   "language": "python",
   "name": "python3"
  },
  "language_info": {
   "codemirror_mode": {
    "name": "ipython",
    "version": 3
   },
   "file_extension": ".py",
   "mimetype": "text/x-python",
   "name": "python",
   "nbconvert_exporter": "python",
   "pygments_lexer": "ipython3",
   "version": "3.7.6"
  }
 },
 "nbformat": 4,
 "nbformat_minor": 4
}
